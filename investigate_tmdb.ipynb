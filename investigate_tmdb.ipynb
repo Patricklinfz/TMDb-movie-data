{
 "cells": [
  {
   "cell_type": "markdown",
   "metadata": {},
   "source": [
    "# Project: Investigate TMDB Movie Data\n",
    "## Table of Contents\n",
    "<ul>\n",
    "<li><a href=\"#intro\">Introduction</a></li>\n",
    "<li><a href=\"#wrangling\">Data Wrangling</a></li>\n",
    "<li><a href=\"#eda\">Exploratory Data Analysis</a></li>\n",
    "<li><a href=\"#conclusions\">Conclusions</a></li>\n",
    "</ul>"
   ]
  },
  {
   "cell_type": "markdown",
   "metadata": {},
   "source": [
    "<a id='intro'></a>\n",
    "## Introduction\n",
    "The TMDB movie data is provided by Udacity and originally from [Kaggle](https://www.kaggle.com/tmdb/tmdb-movie-metadata/data).<br>\n",
    "The dataset contains information about 10,000 movies collected from The Movie Database (TMDb), including user ratings, budget, revenue. The dataset also covers a duration from 1960 to 2015.<br>\n",
    "By following the steps in a typical data analysis process, this project will perform data wrangling and explore the TMDB movie dataset to unfold trends and insight regarding the research questions proposed.<br>\n",
    "The research questions include:\n",
    "- Distribution of average vote\n",
    "- Distribution of movie runtime\n",
    "- Trend regarding number of released movies over the past half century\n",
    "- Trends of keywords among different decades\n",
    "- Average rating of horror films vs. non-horror films\n",
    "- Horror films in percentage of all films since 1990"
   ]
  },
  {
   "cell_type": "code",
   "execution_count": 1,
   "metadata": {},
   "outputs": [],
   "source": [
    "# import packages\n",
    "import numpy as np\n",
    "import pandas as pd\n",
    "import matplotlib.pyplot as plt\n",
    "import seaborn as sns\n",
    "# set plot style\n",
    "sns.set_style('darkgrid')\n",
    "# use magic command to embed visualization in notebook\n",
    "%matplotlib inline"
   ]
  },
  {
   "cell_type": "markdown",
   "metadata": {},
   "source": [
    "<a id='wrangling'></a>\n",
    "## Data Wrangling\n",
    "\n",
    "Work on data gathering, assessing, and cleaning of the dataset to get it ready for Exploratory Data Analysis"
   ]
  },
  {
   "cell_type": "markdown",
   "metadata": {},
   "source": [
    "### 1. Data Gathering"
   ]
  },
  {
   "cell_type": "code",
   "execution_count": 2,
   "metadata": {},
   "outputs": [],
   "source": [
    "# read the movie dataset: tmdb-movies.csv\n",
    "df = pd.read_csv('tmdb-movies.csv')"
   ]
  },
  {
   "cell_type": "markdown",
   "metadata": {},
   "source": [
    "### 2. Data Assessing"
   ]
  },
  {
   "cell_type": "code",
   "execution_count": 3,
   "metadata": {},
   "outputs": [
    {
     "data": {
      "text/html": [
       "<div>\n",
       "<style scoped>\n",
       "    .dataframe tbody tr th:only-of-type {\n",
       "        vertical-align: middle;\n",
       "    }\n",
       "\n",
       "    .dataframe tbody tr th {\n",
       "        vertical-align: top;\n",
       "    }\n",
       "\n",
       "    .dataframe thead th {\n",
       "        text-align: right;\n",
       "    }\n",
       "</style>\n",
       "<table border=\"1\" class=\"dataframe\">\n",
       "  <thead>\n",
       "    <tr style=\"text-align: right;\">\n",
       "      <th></th>\n",
       "      <th>id</th>\n",
       "      <th>imdb_id</th>\n",
       "      <th>popularity</th>\n",
       "      <th>budget</th>\n",
       "      <th>revenue</th>\n",
       "      <th>original_title</th>\n",
       "      <th>cast</th>\n",
       "      <th>homepage</th>\n",
       "      <th>director</th>\n",
       "      <th>tagline</th>\n",
       "      <th>...</th>\n",
       "      <th>overview</th>\n",
       "      <th>runtime</th>\n",
       "      <th>genres</th>\n",
       "      <th>production_companies</th>\n",
       "      <th>release_date</th>\n",
       "      <th>vote_count</th>\n",
       "      <th>vote_average</th>\n",
       "      <th>release_year</th>\n",
       "      <th>budget_adj</th>\n",
       "      <th>revenue_adj</th>\n",
       "    </tr>\n",
       "  </thead>\n",
       "  <tbody>\n",
       "    <tr>\n",
       "      <th>0</th>\n",
       "      <td>135397</td>\n",
       "      <td>tt0369610</td>\n",
       "      <td>32.985763</td>\n",
       "      <td>150000000</td>\n",
       "      <td>1513528810</td>\n",
       "      <td>Jurassic World</td>\n",
       "      <td>Chris Pratt|Bryce Dallas Howard|Irrfan Khan|Vi...</td>\n",
       "      <td>http://www.jurassicworld.com/</td>\n",
       "      <td>Colin Trevorrow</td>\n",
       "      <td>The park is open.</td>\n",
       "      <td>...</td>\n",
       "      <td>Twenty-two years after the events of Jurassic ...</td>\n",
       "      <td>124</td>\n",
       "      <td>Action|Adventure|Science Fiction|Thriller</td>\n",
       "      <td>Universal Studios|Amblin Entertainment|Legenda...</td>\n",
       "      <td>6/9/15</td>\n",
       "      <td>5562</td>\n",
       "      <td>6.5</td>\n",
       "      <td>2015</td>\n",
       "      <td>1.379999e+08</td>\n",
       "      <td>1.392446e+09</td>\n",
       "    </tr>\n",
       "    <tr>\n",
       "      <th>1</th>\n",
       "      <td>76341</td>\n",
       "      <td>tt1392190</td>\n",
       "      <td>28.419936</td>\n",
       "      <td>150000000</td>\n",
       "      <td>378436354</td>\n",
       "      <td>Mad Max: Fury Road</td>\n",
       "      <td>Tom Hardy|Charlize Theron|Hugh Keays-Byrne|Nic...</td>\n",
       "      <td>http://www.madmaxmovie.com/</td>\n",
       "      <td>George Miller</td>\n",
       "      <td>What a Lovely Day.</td>\n",
       "      <td>...</td>\n",
       "      <td>An apocalyptic story set in the furthest reach...</td>\n",
       "      <td>120</td>\n",
       "      <td>Action|Adventure|Science Fiction|Thriller</td>\n",
       "      <td>Village Roadshow Pictures|Kennedy Miller Produ...</td>\n",
       "      <td>5/13/15</td>\n",
       "      <td>6185</td>\n",
       "      <td>7.1</td>\n",
       "      <td>2015</td>\n",
       "      <td>1.379999e+08</td>\n",
       "      <td>3.481613e+08</td>\n",
       "    </tr>\n",
       "    <tr>\n",
       "      <th>2</th>\n",
       "      <td>262500</td>\n",
       "      <td>tt2908446</td>\n",
       "      <td>13.112507</td>\n",
       "      <td>110000000</td>\n",
       "      <td>295238201</td>\n",
       "      <td>Insurgent</td>\n",
       "      <td>Shailene Woodley|Theo James|Kate Winslet|Ansel...</td>\n",
       "      <td>http://www.thedivergentseries.movie/#insurgent</td>\n",
       "      <td>Robert Schwentke</td>\n",
       "      <td>One Choice Can Destroy You</td>\n",
       "      <td>...</td>\n",
       "      <td>Beatrice Prior must confront her inner demons ...</td>\n",
       "      <td>119</td>\n",
       "      <td>Adventure|Science Fiction|Thriller</td>\n",
       "      <td>Summit Entertainment|Mandeville Films|Red Wago...</td>\n",
       "      <td>3/18/15</td>\n",
       "      <td>2480</td>\n",
       "      <td>6.3</td>\n",
       "      <td>2015</td>\n",
       "      <td>1.012000e+08</td>\n",
       "      <td>2.716190e+08</td>\n",
       "    </tr>\n",
       "  </tbody>\n",
       "</table>\n",
       "<p>3 rows × 21 columns</p>\n",
       "</div>"
      ],
      "text/plain": [
       "       id    imdb_id  popularity     budget     revenue      original_title  \\\n",
       "0  135397  tt0369610   32.985763  150000000  1513528810      Jurassic World   \n",
       "1   76341  tt1392190   28.419936  150000000   378436354  Mad Max: Fury Road   \n",
       "2  262500  tt2908446   13.112507  110000000   295238201           Insurgent   \n",
       "\n",
       "                                                cast  \\\n",
       "0  Chris Pratt|Bryce Dallas Howard|Irrfan Khan|Vi...   \n",
       "1  Tom Hardy|Charlize Theron|Hugh Keays-Byrne|Nic...   \n",
       "2  Shailene Woodley|Theo James|Kate Winslet|Ansel...   \n",
       "\n",
       "                                         homepage          director  \\\n",
       "0                   http://www.jurassicworld.com/   Colin Trevorrow   \n",
       "1                     http://www.madmaxmovie.com/     George Miller   \n",
       "2  http://www.thedivergentseries.movie/#insurgent  Robert Schwentke   \n",
       "\n",
       "                      tagline      ...       \\\n",
       "0           The park is open.      ...        \n",
       "1          What a Lovely Day.      ...        \n",
       "2  One Choice Can Destroy You      ...        \n",
       "\n",
       "                                            overview runtime  \\\n",
       "0  Twenty-two years after the events of Jurassic ...     124   \n",
       "1  An apocalyptic story set in the furthest reach...     120   \n",
       "2  Beatrice Prior must confront her inner demons ...     119   \n",
       "\n",
       "                                      genres  \\\n",
       "0  Action|Adventure|Science Fiction|Thriller   \n",
       "1  Action|Adventure|Science Fiction|Thriller   \n",
       "2         Adventure|Science Fiction|Thriller   \n",
       "\n",
       "                                production_companies release_date vote_count  \\\n",
       "0  Universal Studios|Amblin Entertainment|Legenda...       6/9/15       5562   \n",
       "1  Village Roadshow Pictures|Kennedy Miller Produ...      5/13/15       6185   \n",
       "2  Summit Entertainment|Mandeville Films|Red Wago...      3/18/15       2480   \n",
       "\n",
       "   vote_average  release_year    budget_adj   revenue_adj  \n",
       "0           6.5          2015  1.379999e+08  1.392446e+09  \n",
       "1           7.1          2015  1.379999e+08  3.481613e+08  \n",
       "2           6.3          2015  1.012000e+08  2.716190e+08  \n",
       "\n",
       "[3 rows x 21 columns]"
      ]
     },
     "execution_count": 3,
     "metadata": {},
     "output_type": "execute_result"
    }
   ],
   "source": [
    "# load a few records to see what the table looks like\n",
    "df.head(3)"
   ]
  },
  {
   "cell_type": "markdown",
   "metadata": {},
   "source": [
    "**Quality Issue 1**: extraneous columns (e.g. imdb_id, overview) <br>\n",
    "**Quality Issue 2**: cast, genres, production_companies with multiple values"
   ]
  },
  {
   "cell_type": "markdown",
   "metadata": {},
   "source": [
    "Certain columns are trimmed from the sample table. <br>\n",
    "So I go on to check the summary of the dataset"
   ]
  },
  {
   "cell_type": "code",
   "execution_count": 4,
   "metadata": {},
   "outputs": [
    {
     "name": "stdout",
     "output_type": "stream",
     "text": [
      "<class 'pandas.core.frame.DataFrame'>\n",
      "RangeIndex: 10866 entries, 0 to 10865\n",
      "Data columns (total 21 columns):\n",
      "id                      10866 non-null int64\n",
      "imdb_id                 10856 non-null object\n",
      "popularity              10866 non-null float64\n",
      "budget                  10866 non-null int64\n",
      "revenue                 10866 non-null int64\n",
      "original_title          10866 non-null object\n",
      "cast                    10790 non-null object\n",
      "homepage                2936 non-null object\n",
      "director                10822 non-null object\n",
      "tagline                 8042 non-null object\n",
      "keywords                9373 non-null object\n",
      "overview                10862 non-null object\n",
      "runtime                 10866 non-null int64\n",
      "genres                  10843 non-null object\n",
      "production_companies    9836 non-null object\n",
      "release_date            10866 non-null object\n",
      "vote_count              10866 non-null int64\n",
      "vote_average            10866 non-null float64\n",
      "release_year            10866 non-null int64\n",
      "budget_adj              10866 non-null float64\n",
      "revenue_adj             10866 non-null float64\n",
      "dtypes: float64(4), int64(6), object(11)\n",
      "memory usage: 1.7+ MB\n"
     ]
    }
   ],
   "source": [
    "# get a concise summary of the dataset\n",
    "df.info()"
   ]
  },
  {
   "cell_type": "code",
   "execution_count": 5,
   "metadata": {},
   "outputs": [
    {
     "name": "stdout",
     "output_type": "stream",
     "text": [
      "['imdb_id', 'cast', 'homepage', 'director', 'tagline', 'keywords', 'overview', 'genres', 'production_companies']\n"
     ]
    }
   ],
   "source": [
    "# get all the columns containing null values\n",
    "c_with_null = []\n",
    "for c in df.columns:\n",
    "    if not df[c].isnull().sum()==0:\n",
    "        c_with_null.append(c)\n",
    "print(c_with_null)"
   ]
  },
  {
   "cell_type": "code",
   "execution_count": 6,
   "metadata": {},
   "outputs": [
    {
     "data": {
      "text/plain": [
       "9"
      ]
     },
     "execution_count": 6,
     "metadata": {},
     "output_type": "execute_result"
    }
   ],
   "source": [
    "# get the total of columns with null\n",
    "len(c_with_null)"
   ]
  },
  {
   "cell_type": "markdown",
   "metadata": {},
   "source": [
    "**Quality Issue 3**: 9 columns containing null values"
   ]
  },
  {
   "cell_type": "markdown",
   "metadata": {},
   "source": [
    "**Quality Issue 4**: id & release_year are integers not strings"
   ]
  },
  {
   "cell_type": "code",
   "execution_count": 7,
   "metadata": {},
   "outputs": [
    {
     "data": {
      "text/plain": [
       "4545    undercover|fbi|college|private investigator|so...\n",
       "8287    secret love|mohawk|18th century|american india...\n",
       "6159                                        spy|biography\n",
       "Name: keywords, dtype: object"
      ]
     },
     "execution_count": 7,
     "metadata": {},
     "output_type": "execute_result"
    }
   ],
   "source": [
    "# get a sample of keywords column \n",
    "df.keywords.sample(3)"
   ]
  },
  {
   "cell_type": "markdown",
   "metadata": {},
   "source": [
    "**Quality Issue 2 (continued)**: keywords with multiple values"
   ]
  },
  {
   "cell_type": "code",
   "execution_count": 8,
   "metadata": {},
   "outputs": [
    {
     "data": {
      "text/plain": [
       "1"
      ]
     },
     "execution_count": 8,
     "metadata": {},
     "output_type": "execute_result"
    }
   ],
   "source": [
    "# check duplicates\n",
    "df.duplicated().sum()"
   ]
  },
  {
   "cell_type": "markdown",
   "metadata": {},
   "source": [
    "**Quality Issue 5**: 1 duplicated record"
   ]
  },
  {
   "cell_type": "code",
   "execution_count": 9,
   "metadata": {},
   "outputs": [
    {
     "data": {
      "text/html": [
       "<div>\n",
       "<style scoped>\n",
       "    .dataframe tbody tr th:only-of-type {\n",
       "        vertical-align: middle;\n",
       "    }\n",
       "\n",
       "    .dataframe tbody tr th {\n",
       "        vertical-align: top;\n",
       "    }\n",
       "\n",
       "    .dataframe thead th {\n",
       "        text-align: right;\n",
       "    }\n",
       "</style>\n",
       "<table border=\"1\" class=\"dataframe\">\n",
       "  <thead>\n",
       "    <tr style=\"text-align: right;\">\n",
       "      <th></th>\n",
       "      <th>id</th>\n",
       "      <th>popularity</th>\n",
       "      <th>budget</th>\n",
       "      <th>revenue</th>\n",
       "      <th>runtime</th>\n",
       "      <th>vote_count</th>\n",
       "      <th>vote_average</th>\n",
       "      <th>release_year</th>\n",
       "      <th>budget_adj</th>\n",
       "      <th>revenue_adj</th>\n",
       "    </tr>\n",
       "  </thead>\n",
       "  <tbody>\n",
       "    <tr>\n",
       "      <th>count</th>\n",
       "      <td>10866.000000</td>\n",
       "      <td>10866.000000</td>\n",
       "      <td>1.086600e+04</td>\n",
       "      <td>1.086600e+04</td>\n",
       "      <td>10866.000000</td>\n",
       "      <td>10866.000000</td>\n",
       "      <td>10866.000000</td>\n",
       "      <td>10866.000000</td>\n",
       "      <td>1.086600e+04</td>\n",
       "      <td>1.086600e+04</td>\n",
       "    </tr>\n",
       "    <tr>\n",
       "      <th>mean</th>\n",
       "      <td>66064.177434</td>\n",
       "      <td>0.646441</td>\n",
       "      <td>1.462570e+07</td>\n",
       "      <td>3.982332e+07</td>\n",
       "      <td>102.070863</td>\n",
       "      <td>217.389748</td>\n",
       "      <td>5.974922</td>\n",
       "      <td>2001.322658</td>\n",
       "      <td>1.755104e+07</td>\n",
       "      <td>5.136436e+07</td>\n",
       "    </tr>\n",
       "    <tr>\n",
       "      <th>std</th>\n",
       "      <td>92130.136561</td>\n",
       "      <td>1.000185</td>\n",
       "      <td>3.091321e+07</td>\n",
       "      <td>1.170035e+08</td>\n",
       "      <td>31.381405</td>\n",
       "      <td>575.619058</td>\n",
       "      <td>0.935142</td>\n",
       "      <td>12.812941</td>\n",
       "      <td>3.430616e+07</td>\n",
       "      <td>1.446325e+08</td>\n",
       "    </tr>\n",
       "    <tr>\n",
       "      <th>min</th>\n",
       "      <td>5.000000</td>\n",
       "      <td>0.000065</td>\n",
       "      <td>0.000000e+00</td>\n",
       "      <td>0.000000e+00</td>\n",
       "      <td>0.000000</td>\n",
       "      <td>10.000000</td>\n",
       "      <td>1.500000</td>\n",
       "      <td>1960.000000</td>\n",
       "      <td>0.000000e+00</td>\n",
       "      <td>0.000000e+00</td>\n",
       "    </tr>\n",
       "    <tr>\n",
       "      <th>25%</th>\n",
       "      <td>10596.250000</td>\n",
       "      <td>0.207583</td>\n",
       "      <td>0.000000e+00</td>\n",
       "      <td>0.000000e+00</td>\n",
       "      <td>90.000000</td>\n",
       "      <td>17.000000</td>\n",
       "      <td>5.400000</td>\n",
       "      <td>1995.000000</td>\n",
       "      <td>0.000000e+00</td>\n",
       "      <td>0.000000e+00</td>\n",
       "    </tr>\n",
       "    <tr>\n",
       "      <th>50%</th>\n",
       "      <td>20669.000000</td>\n",
       "      <td>0.383856</td>\n",
       "      <td>0.000000e+00</td>\n",
       "      <td>0.000000e+00</td>\n",
       "      <td>99.000000</td>\n",
       "      <td>38.000000</td>\n",
       "      <td>6.000000</td>\n",
       "      <td>2006.000000</td>\n",
       "      <td>0.000000e+00</td>\n",
       "      <td>0.000000e+00</td>\n",
       "    </tr>\n",
       "    <tr>\n",
       "      <th>75%</th>\n",
       "      <td>75610.000000</td>\n",
       "      <td>0.713817</td>\n",
       "      <td>1.500000e+07</td>\n",
       "      <td>2.400000e+07</td>\n",
       "      <td>111.000000</td>\n",
       "      <td>145.750000</td>\n",
       "      <td>6.600000</td>\n",
       "      <td>2011.000000</td>\n",
       "      <td>2.085325e+07</td>\n",
       "      <td>3.369710e+07</td>\n",
       "    </tr>\n",
       "    <tr>\n",
       "      <th>max</th>\n",
       "      <td>417859.000000</td>\n",
       "      <td>32.985763</td>\n",
       "      <td>4.250000e+08</td>\n",
       "      <td>2.781506e+09</td>\n",
       "      <td>900.000000</td>\n",
       "      <td>9767.000000</td>\n",
       "      <td>9.200000</td>\n",
       "      <td>2015.000000</td>\n",
       "      <td>4.250000e+08</td>\n",
       "      <td>2.827124e+09</td>\n",
       "    </tr>\n",
       "  </tbody>\n",
       "</table>\n",
       "</div>"
      ],
      "text/plain": [
       "                  id    popularity        budget       revenue       runtime  \\\n",
       "count   10866.000000  10866.000000  1.086600e+04  1.086600e+04  10866.000000   \n",
       "mean    66064.177434      0.646441  1.462570e+07  3.982332e+07    102.070863   \n",
       "std     92130.136561      1.000185  3.091321e+07  1.170035e+08     31.381405   \n",
       "min         5.000000      0.000065  0.000000e+00  0.000000e+00      0.000000   \n",
       "25%     10596.250000      0.207583  0.000000e+00  0.000000e+00     90.000000   \n",
       "50%     20669.000000      0.383856  0.000000e+00  0.000000e+00     99.000000   \n",
       "75%     75610.000000      0.713817  1.500000e+07  2.400000e+07    111.000000   \n",
       "max    417859.000000     32.985763  4.250000e+08  2.781506e+09    900.000000   \n",
       "\n",
       "         vote_count  vote_average  release_year    budget_adj   revenue_adj  \n",
       "count  10866.000000  10866.000000  10866.000000  1.086600e+04  1.086600e+04  \n",
       "mean     217.389748      5.974922   2001.322658  1.755104e+07  5.136436e+07  \n",
       "std      575.619058      0.935142     12.812941  3.430616e+07  1.446325e+08  \n",
       "min       10.000000      1.500000   1960.000000  0.000000e+00  0.000000e+00  \n",
       "25%       17.000000      5.400000   1995.000000  0.000000e+00  0.000000e+00  \n",
       "50%       38.000000      6.000000   2006.000000  0.000000e+00  0.000000e+00  \n",
       "75%      145.750000      6.600000   2011.000000  2.085325e+07  3.369710e+07  \n",
       "max     9767.000000      9.200000   2015.000000  4.250000e+08  2.827124e+09  "
      ]
     },
     "execution_count": 9,
     "metadata": {},
     "output_type": "execute_result"
    }
   ],
   "source": [
    "# get a statistical summary of the dataset\n",
    "df.describe()"
   ]
  },
  {
   "cell_type": "markdown",
   "metadata": {},
   "source": [
    "In the statistical summary, I observe budget, revenue, runtime, budget_adj, revenue_adj with values of 0. This is worth looking into. "
   ]
  },
  {
   "cell_type": "code",
   "execution_count": 10,
   "metadata": {},
   "outputs": [
    {
     "name": "stdout",
     "output_type": "stream",
     "text": [
      "budget 5696\n",
      "revenue 6016\n",
      "runtime 31\n",
      "budget_adj 5696\n",
      "revenue_adj 6016\n"
     ]
    }
   ],
   "source": [
    "# get the counts of 0 values for the columns  \n",
    "zero_col = ['budget', 'revenue', 'runtime', 'budget_adj', 'revenue_adj']\n",
    "for col in zero_col:\n",
    "    zero_count = df.groupby(col).count()['id'][0]\n",
    "    print(col, zero_count)"
   ]
  },
  {
   "cell_type": "markdown",
   "metadata": {},
   "source": [
    "runtime column has small amount of zero values, while other four columns have significant amounts"
   ]
  },
  {
   "cell_type": "markdown",
   "metadata": {},
   "source": [
    "Check whether the zero values are simply missing data, or very small amount of runtime to be recorded as zero"
   ]
  },
  {
   "cell_type": "code",
   "execution_count": 11,
   "metadata": {},
   "outputs": [
    {
     "data": {
      "text/plain": [
       "0    31\n",
       "6    22\n",
       "7    17\n",
       "5    17\n",
       "4    17\n",
       "3    11\n",
       "8     9\n",
       "9     7\n",
       "2     5\n",
       "Name: runtime, dtype: int64"
      ]
     },
     "execution_count": 11,
     "metadata": {},
     "output_type": "execute_result"
    }
   ],
   "source": [
    "# check the number of movies with short runtime (<10 min)\n",
    "df_test1 = df.query('runtime < 10')\n",
    "df_test1.runtime.value_counts()"
   ]
  },
  {
   "cell_type": "markdown",
   "metadata": {},
   "source": [
    "Runtime less than 5 minutes is still recorded. So I assume for runtime, zero values are missing data. <br> <br>\n",
    "\n",
    "Now I move on to check budget, revenue, budget_adj, revenue_adj."
   ]
  },
  {
   "cell_type": "code",
   "execution_count": 12,
   "metadata": {},
   "outputs": [
    {
     "data": {
      "text/html": [
       "<div>\n",
       "<style scoped>\n",
       "    .dataframe tbody tr th:only-of-type {\n",
       "        vertical-align: middle;\n",
       "    }\n",
       "\n",
       "    .dataframe tbody tr th {\n",
       "        vertical-align: top;\n",
       "    }\n",
       "\n",
       "    .dataframe thead th {\n",
       "        text-align: right;\n",
       "    }\n",
       "</style>\n",
       "<table border=\"1\" class=\"dataframe\">\n",
       "  <thead>\n",
       "    <tr style=\"text-align: right;\">\n",
       "      <th></th>\n",
       "      <th>id</th>\n",
       "      <th>imdb_id</th>\n",
       "      <th>popularity</th>\n",
       "      <th>budget</th>\n",
       "      <th>revenue</th>\n",
       "      <th>original_title</th>\n",
       "      <th>cast</th>\n",
       "      <th>homepage</th>\n",
       "      <th>director</th>\n",
       "      <th>tagline</th>\n",
       "      <th>...</th>\n",
       "      <th>overview</th>\n",
       "      <th>runtime</th>\n",
       "      <th>genres</th>\n",
       "      <th>production_companies</th>\n",
       "      <th>release_date</th>\n",
       "      <th>vote_count</th>\n",
       "      <th>vote_average</th>\n",
       "      <th>release_year</th>\n",
       "      <th>budget_adj</th>\n",
       "      <th>revenue_adj</th>\n",
       "    </tr>\n",
       "  </thead>\n",
       "  <tbody>\n",
       "    <tr>\n",
       "      <th>74</th>\n",
       "      <td>347096</td>\n",
       "      <td>tt3478232</td>\n",
       "      <td>2.165433</td>\n",
       "      <td>0</td>\n",
       "      <td>0</td>\n",
       "      <td>Mythica: The Darkspore</td>\n",
       "      <td>Melanie Stone|Kevin Sorbo|Adam Johnson|Jake St...</td>\n",
       "      <td>http://www.mythicamovie.com/#!blank/wufvh</td>\n",
       "      <td>Anne K. Black</td>\n",
       "      <td>NaN</td>\n",
       "      <td>...</td>\n",
       "      <td>When Teelaâ€™s sister is murdered and a powerf...</td>\n",
       "      <td>108</td>\n",
       "      <td>Action|Adventure|Fantasy</td>\n",
       "      <td>Arrowstorm Entertainment</td>\n",
       "      <td>6/24/15</td>\n",
       "      <td>27</td>\n",
       "      <td>5.1</td>\n",
       "      <td>2015</td>\n",
       "      <td>0.0</td>\n",
       "      <td>0.0</td>\n",
       "    </tr>\n",
       "    <tr>\n",
       "      <th>75</th>\n",
       "      <td>308369</td>\n",
       "      <td>tt2582496</td>\n",
       "      <td>2.141506</td>\n",
       "      <td>0</td>\n",
       "      <td>0</td>\n",
       "      <td>Me and Earl and the Dying Girl</td>\n",
       "      <td>Thomas Mann|RJ Cyler|Olivia Cooke|Connie Britt...</td>\n",
       "      <td>http://www.foxsearchlight.com/meandearlandthed...</td>\n",
       "      <td>Alfonso Gomez-Rejon</td>\n",
       "      <td>A Little Friendship Never Killed Anyone.</td>\n",
       "      <td>...</td>\n",
       "      <td>Greg is coasting through senior year of high s...</td>\n",
       "      <td>105</td>\n",
       "      <td>Comedy|Drama</td>\n",
       "      <td>Indian Paintbrush</td>\n",
       "      <td>6/12/15</td>\n",
       "      <td>569</td>\n",
       "      <td>7.7</td>\n",
       "      <td>2015</td>\n",
       "      <td>0.0</td>\n",
       "      <td>0.0</td>\n",
       "    </tr>\n",
       "    <tr>\n",
       "      <th>92</th>\n",
       "      <td>370687</td>\n",
       "      <td>tt3608646</td>\n",
       "      <td>1.876037</td>\n",
       "      <td>0</td>\n",
       "      <td>0</td>\n",
       "      <td>Mythica: The Necromancer</td>\n",
       "      <td>Melanie Stone|Adam Johnson|Kevin Sorbo|Nicola ...</td>\n",
       "      <td>http://www.mythicamovie.com/#!blank/y9ake</td>\n",
       "      <td>A. Todd Smith</td>\n",
       "      <td>NaN</td>\n",
       "      <td>...</td>\n",
       "      <td>Mallister takes Thane prisoner and forces Mare...</td>\n",
       "      <td>0</td>\n",
       "      <td>Fantasy|Action|Adventure</td>\n",
       "      <td>Arrowstorm Entertainment|Camera 40 Productions...</td>\n",
       "      <td>12/19/15</td>\n",
       "      <td>11</td>\n",
       "      <td>5.4</td>\n",
       "      <td>2015</td>\n",
       "      <td>0.0</td>\n",
       "      <td>0.0</td>\n",
       "    </tr>\n",
       "    <tr>\n",
       "      <th>100</th>\n",
       "      <td>326359</td>\n",
       "      <td>tt4007502</td>\n",
       "      <td>1.724712</td>\n",
       "      <td>0</td>\n",
       "      <td>0</td>\n",
       "      <td>Frozen Fever</td>\n",
       "      <td>Kristen Bell|Idina Menzel|Jonathan Groff|Josh ...</td>\n",
       "      <td>NaN</td>\n",
       "      <td>Chris Buck|Jennifer Lee</td>\n",
       "      <td>NaN</td>\n",
       "      <td>...</td>\n",
       "      <td>On Anna's birthday, Elsa and Kristoff are dete...</td>\n",
       "      <td>8</td>\n",
       "      <td>Adventure|Animation|Family</td>\n",
       "      <td>Walt Disney Pictures|Walt Disney Animation Stu...</td>\n",
       "      <td>3/9/15</td>\n",
       "      <td>475</td>\n",
       "      <td>7.0</td>\n",
       "      <td>2015</td>\n",
       "      <td>0.0</td>\n",
       "      <td>0.0</td>\n",
       "    </tr>\n",
       "  </tbody>\n",
       "</table>\n",
       "<p>4 rows × 21 columns</p>\n",
       "</div>"
      ],
      "text/plain": [
       "         id    imdb_id  popularity  budget  revenue  \\\n",
       "74   347096  tt3478232    2.165433       0        0   \n",
       "75   308369  tt2582496    2.141506       0        0   \n",
       "92   370687  tt3608646    1.876037       0        0   \n",
       "100  326359  tt4007502    1.724712       0        0   \n",
       "\n",
       "                     original_title  \\\n",
       "74           Mythica: The Darkspore   \n",
       "75   Me and Earl and the Dying Girl   \n",
       "92         Mythica: The Necromancer   \n",
       "100                    Frozen Fever   \n",
       "\n",
       "                                                  cast  \\\n",
       "74   Melanie Stone|Kevin Sorbo|Adam Johnson|Jake St...   \n",
       "75   Thomas Mann|RJ Cyler|Olivia Cooke|Connie Britt...   \n",
       "92   Melanie Stone|Adam Johnson|Kevin Sorbo|Nicola ...   \n",
       "100  Kristen Bell|Idina Menzel|Jonathan Groff|Josh ...   \n",
       "\n",
       "                                              homepage  \\\n",
       "74           http://www.mythicamovie.com/#!blank/wufvh   \n",
       "75   http://www.foxsearchlight.com/meandearlandthed...   \n",
       "92           http://www.mythicamovie.com/#!blank/y9ake   \n",
       "100                                                NaN   \n",
       "\n",
       "                    director                                   tagline  \\\n",
       "74             Anne K. Black                                       NaN   \n",
       "75       Alfonso Gomez-Rejon  A Little Friendship Never Killed Anyone.   \n",
       "92             A. Todd Smith                                       NaN   \n",
       "100  Chris Buck|Jennifer Lee                                       NaN   \n",
       "\n",
       "        ...                                                overview runtime  \\\n",
       "74      ...       When Teelaâ€™s sister is murdered and a powerf...     108   \n",
       "75      ...       Greg is coasting through senior year of high s...     105   \n",
       "92      ...       Mallister takes Thane prisoner and forces Mare...       0   \n",
       "100     ...       On Anna's birthday, Elsa and Kristoff are dete...       8   \n",
       "\n",
       "                         genres  \\\n",
       "74     Action|Adventure|Fantasy   \n",
       "75                 Comedy|Drama   \n",
       "92     Fantasy|Action|Adventure   \n",
       "100  Adventure|Animation|Family   \n",
       "\n",
       "                                  production_companies release_date  \\\n",
       "74                            Arrowstorm Entertainment      6/24/15   \n",
       "75                                   Indian Paintbrush      6/12/15   \n",
       "92   Arrowstorm Entertainment|Camera 40 Productions...     12/19/15   \n",
       "100  Walt Disney Pictures|Walt Disney Animation Stu...       3/9/15   \n",
       "\n",
       "    vote_count  vote_average  release_year  budget_adj  revenue_adj  \n",
       "74          27           5.1          2015         0.0          0.0  \n",
       "75         569           7.7          2015         0.0          0.0  \n",
       "92          11           5.4          2015         0.0          0.0  \n",
       "100        475           7.0          2015         0.0          0.0  \n",
       "\n",
       "[4 rows x 21 columns]"
      ]
     },
     "execution_count": 12,
     "metadata": {},
     "output_type": "execute_result"
    }
   ],
   "source": [
    "# get a sample of movies with 0 in budget and revenue\n",
    "df_test2 = df.query('budget == 0 and revenue == 0')\n",
    "df_test2.head(4)"
   ]
  },
  {
   "cell_type": "markdown",
   "metadata": {},
   "source": [
    "From the sample, I pick the movie \"Me and Earl and the Dying Girl\" and online search. <br>\n",
    "The movies's [wikipedia page](https://en.wikipedia.org/wiki/Me_and_Earl_and_the_Dying_Girl_(film)) listed its budget 8 million dollars, revenue 9.1 million dollars. <br>\n",
    "So I further assume zero values are missing data for budget, revenue, budget_adj, revenue_adj"
   ]
  },
  {
   "cell_type": "markdown",
   "metadata": {},
   "source": [
    "**Quality Issue 6**: small amount of missing values (0) in runtime; significant amount in budget, revenue, budget_adj, revenue_adj"
   ]
  },
  {
   "cell_type": "markdown",
   "metadata": {},
   "source": [
    "## Assessment Summary\n",
    "- extraneous columns (e.g. imdb_id, overview)\n",
    "- cast, keywords, genres, production_companies with multiple values\n",
    "- 9 columns containing null values\n",
    "- id & release_year are integers not strings\n",
    "- 1 duplicated record\n",
    "- small amount of missing values (0) in runtime; significant amount in budget, revenue, budget_adj, revenue_adj"
   ]
  },
  {
   "cell_type": "markdown",
   "metadata": {},
   "source": [
    "### 3. Data Cleaning"
   ]
  },
  {
   "cell_type": "code",
   "execution_count": 13,
   "metadata": {},
   "outputs": [],
   "source": [
    "# make a copy of the dataset\n",
    "df_clean = df.copy()"
   ]
  },
  {
   "cell_type": "markdown",
   "metadata": {},
   "source": [
    "**Quality Issue 1**: drop extraneous columns"
   ]
  },
  {
   "cell_type": "code",
   "execution_count": 14,
   "metadata": {},
   "outputs": [],
   "source": [
    "# drop columns not used in my analysis\n",
    "df_clean.drop(columns = ['imdb_id', 'cast', 'homepage', 'tagline', 'overview', 'release_date'], inplace = True)\n"
   ]
  },
  {
   "cell_type": "code",
   "execution_count": 15,
   "metadata": {},
   "outputs": [
    {
     "name": "stdout",
     "output_type": "stream",
     "text": [
      "imdb_id 0\n",
      "cast 0\n",
      "homepage 0\n",
      "tagline 0\n",
      "overview 0\n",
      "release_date 0\n"
     ]
    }
   ],
   "source": [
    "# verify the columns have been dropped\n",
    "drop_columns = ['imdb_id', 'cast', 'homepage', 'tagline', 'overview', 'release_date']\n",
    "for c in drop_columns:\n",
    "    if c in df_clean.columns:\n",
    "        print(c,1)\n",
    "    else:\n",
    "        print(c,0)"
   ]
  },
  {
   "cell_type": "markdown",
   "metadata": {},
   "source": [
    "**Quality Issue 2**: no action"
   ]
  },
  {
   "cell_type": "markdown",
   "metadata": {},
   "source": [
    "`Reasoning`: <br>\n",
    "cast, keywords, genres, and production_companies contain multiple values seperated by verticle bar in each cell. <br> But I won't do any change because each movie is usually with more than one genres and production companies involved, and always has multiple cast members and several keywords for summary. <br> The table would be very huge if I split each of them into seperate rows. <br> I will handle this quality issue if and only if I decide to use one or more of these 4 columns in exploratory data analysis"
   ]
  },
  {
   "cell_type": "markdown",
   "metadata": {},
   "source": [
    "**Quality Issue 3**: drop only column(s) with insignificant amount of null values"
   ]
  },
  {
   "cell_type": "code",
   "execution_count": 16,
   "metadata": {},
   "outputs": [
    {
     "data": {
      "text/plain": [
       "['director', 'keywords', 'genres', 'production_companies']"
      ]
     },
     "execution_count": 16,
     "metadata": {},
     "output_type": "execute_result"
    }
   ],
   "source": [
    "# display all the columns containing null values in df_clean \n",
    "null_columns = []\n",
    "for c in df_clean.columns:\n",
    "    if not df_clean[c].isnull().sum()==0:\n",
    "        null_columns.append(c)\n",
    "null_columns"
   ]
  },
  {
   "cell_type": "code",
   "execution_count": 17,
   "metadata": {},
   "outputs": [
    {
     "name": "stdout",
     "output_type": "stream",
     "text": [
      "director 44\n",
      "keywords 1493\n",
      "genres 23\n",
      "production_companies 1030\n"
     ]
    }
   ],
   "source": [
    "# check the number of null values\n",
    "for col in null_columns:\n",
    "    sum_null = df_clean[col].isnull().sum()\n",
    "    print(col, sum_null)"
   ]
  },
  {
   "cell_type": "markdown",
   "metadata": {},
   "source": [
    "`Reasoning`: <br>\n",
    "The totals of the null values in director and genres are insignificant. <br>\n",
    "Dropping them won't impact data integrity."
   ]
  },
  {
   "cell_type": "code",
   "execution_count": 18,
   "metadata": {},
   "outputs": [],
   "source": [
    "# drop null from these two columns\n",
    "col_drop = ['director','genres']\n",
    "df_clean.dropna(subset = col_drop, inplace = True)"
   ]
  },
  {
   "cell_type": "code",
   "execution_count": 19,
   "metadata": {},
   "outputs": [
    {
     "name": "stdout",
     "output_type": "stream",
     "text": [
      "director 0\n",
      "genres 0\n"
     ]
    }
   ],
   "source": [
    "# verify no null for these two columns\n",
    "for col in ['director','genres']:\n",
    "    num_null = df_clean[col].isnull().sum()\n",
    "    print(col, num_null)"
   ]
  },
  {
   "cell_type": "markdown",
   "metadata": {},
   "source": [
    "`Reasoning`: <br>\n",
    "keywords and production_companies both have a considerable amount of null values. <br> Dropping them has the side effect of losing valuable information on those records, and thus impact data integrity. <br> I decide to keep null values in these two columns, but I need to be extra careful if later on I use these two columns for analysis."
   ]
  },
  {
   "cell_type": "markdown",
   "metadata": {},
   "source": [
    "**Quality Issue 4**: convert id and release_year from integer to string"
   ]
  },
  {
   "cell_type": "code",
   "execution_count": 20,
   "metadata": {},
   "outputs": [],
   "source": [
    "# convert datatypes\n",
    "df_clean.id = df_clean.id.astype(str)\n",
    "df_clean.release_year = df_clean.release_year.astype(str)"
   ]
  },
  {
   "cell_type": "code",
   "execution_count": 21,
   "metadata": {},
   "outputs": [
    {
     "name": "stdout",
     "output_type": "stream",
     "text": [
      "id <class 'str'>\n",
      "release_year <class 'str'>\n"
     ]
    }
   ],
   "source": [
    "# check the updated datatypes \n",
    "id_dtype = type(df_clean.id[0])\n",
    "year_dtype = type(df_clean.release_year[0])\n",
    "print('id', id_dtype)\n",
    "print('release_year', year_dtype)"
   ]
  },
  {
   "cell_type": "markdown",
   "metadata": {},
   "source": [
    "**Quality Issue 5**: drop duplicated record"
   ]
  },
  {
   "cell_type": "code",
   "execution_count": 22,
   "metadata": {},
   "outputs": [],
   "source": [
    "# dedupe\n",
    "df_clean.drop_duplicates(inplace = True)"
   ]
  },
  {
   "cell_type": "code",
   "execution_count": 23,
   "metadata": {},
   "outputs": [
    {
     "data": {
      "text/plain": [
       "0"
      ]
     },
     "execution_count": 23,
     "metadata": {},
     "output_type": "execute_result"
    }
   ],
   "source": [
    "# verify no duplicate exists\n",
    "df_clean.duplicated().sum()"
   ]
  },
  {
   "cell_type": "markdown",
   "metadata": {},
   "source": [
    "**Quality Issue 6**: \n",
    "- drop zero from column(s) with small count of zero\n",
    "- drop budget and revenue columns\n",
    "- replace zero with null for columns with significant count "
   ]
  },
  {
   "cell_type": "code",
   "execution_count": 24,
   "metadata": {},
   "outputs": [
    {
     "data": {
      "text/plain": [
       "['budget', 'revenue', 'runtime', 'budget_adj', 'revenue_adj']"
      ]
     },
     "execution_count": 24,
     "metadata": {},
     "output_type": "execute_result"
    }
   ],
   "source": [
    "# as a refresher, display columns with 0 values in original dataset df\n",
    "zero_col"
   ]
  },
  {
   "cell_type": "code",
   "execution_count": 25,
   "metadata": {},
   "outputs": [
    {
     "name": "stdout",
     "output_type": "stream",
     "text": [
      "budget 5696\n",
      "revenue 6016\n",
      "runtime 31\n",
      "budget_adj 5696\n",
      "revenue_adj 6016\n"
     ]
    }
   ],
   "source": [
    "# get the counts of 0 values for each in zero_col\n",
    "for col in zero_col:\n",
    "    zero_count = df.groupby(col).count()['id'][0]\n",
    "    print(col, zero_count)"
   ]
  },
  {
   "cell_type": "markdown",
   "metadata": {},
   "source": [
    "`Reasoning`: <br>\n",
    "runtime has small amount of zero values. <br>\n",
    "dropping them won't impact data integrity, so I drop them."
   ]
  },
  {
   "cell_type": "code",
   "execution_count": 26,
   "metadata": {},
   "outputs": [],
   "source": [
    "# drop zero values of runtime column\n",
    "df_clean = df_clean.query('runtime != 0')"
   ]
  },
  {
   "cell_type": "code",
   "execution_count": 27,
   "metadata": {},
   "outputs": [
    {
     "data": {
      "text/plain": [
       "0"
      ]
     },
     "execution_count": 27,
     "metadata": {},
     "output_type": "execute_result"
    }
   ],
   "source": [
    "# verify no zero values in runtime column\n",
    "df_clean.query('runtime == 0')['runtime'].count()"
   ]
  },
  {
   "cell_type": "markdown",
   "metadata": {},
   "source": [
    "`Reasoning`: <br>\n",
    "budget_adj, revenue_adj columns are budget and revenue values adjusted for inflation. <br> I favor them over budget and revenue columns when exploring trends over time. <br> So I drop budget and revenue columns."
   ]
  },
  {
   "cell_type": "code",
   "execution_count": 28,
   "metadata": {},
   "outputs": [],
   "source": [
    "# drop columns \n",
    "df_clean.drop(columns = ['budget', 'revenue'], inplace = True)"
   ]
  },
  {
   "cell_type": "code",
   "execution_count": 29,
   "metadata": {},
   "outputs": [
    {
     "name": "stdout",
     "output_type": "stream",
     "text": [
      "budget\n",
      "revenue\n"
     ]
    }
   ],
   "source": [
    "# verify columns are dropped\n",
    "drop_columns = ['budget', 'revenue']\n",
    "for c in drop_columns:\n",
    "    if c not in df_clean.columns:\n",
    "        print(c)"
   ]
  },
  {
   "cell_type": "markdown",
   "metadata": {},
   "source": [
    "`Reasoning`: <br>\n",
    "budget_adj, revenue_adj both have significant amount of zero values. <br> Dropping their zero values will impact data integrity. <br> So instead, I replace 0 with Null using `np.NaN`."
   ]
  },
  {
   "cell_type": "code",
   "execution_count": 30,
   "metadata": {},
   "outputs": [],
   "source": [
    "# replace 0 with null in budget_adj, revenue_adj \n",
    "df_clean['budget_adj'].replace(0, np.NaN, inplace = True)\n",
    "df_clean['revenue_adj'].replace(0, np.NaN, inplace = True)"
   ]
  },
  {
   "cell_type": "code",
   "execution_count": 31,
   "metadata": {},
   "outputs": [
    {
     "name": "stdout",
     "output_type": "stream",
     "text": [
      "budget_adj 0\n",
      "revenue_adj 0\n"
     ]
    }
   ],
   "source": [
    "# confirm the change\n",
    "# first check the counts of null in both columns from original dataset df\n",
    "replace_list = ['budget_adj', 'revenue_adj']\n",
    "for x in replace_list:\n",
    "    print(x, df[x].isnull().sum())"
   ]
  },
  {
   "cell_type": "code",
   "execution_count": 32,
   "metadata": {},
   "outputs": [
    {
     "name": "stdout",
     "output_type": "stream",
     "text": [
      "budget_adj 5611\n",
      "revenue_adj 5924\n"
     ]
    },
    {
     "data": {
      "text/plain": [
       "[None, None]"
      ]
     },
     "execution_count": 32,
     "metadata": {},
     "output_type": "execute_result"
    }
   ],
   "source": [
    "# then check the counts of null in these two columns after replacement in df_clean\n",
    "[print(x, df_clean[x].isnull().sum()) for x in replace_list]"
   ]
  },
  {
   "cell_type": "markdown",
   "metadata": {},
   "source": [
    "## Datasets after Wrangling"
   ]
  },
  {
   "cell_type": "code",
   "execution_count": 33,
   "metadata": {},
   "outputs": [
    {
     "name": "stdout",
     "output_type": "stream",
     "text": [
      "<class 'pandas.core.frame.DataFrame'>\n",
      "Int64Index: 10772 entries, 0 to 10865\n",
      "Data columns (total 13 columns):\n",
      "id                      10772 non-null object\n",
      "popularity              10772 non-null float64\n",
      "original_title          10772 non-null object\n",
      "director                10772 non-null object\n",
      "keywords                9338 non-null object\n",
      "runtime                 10772 non-null int64\n",
      "genres                  10772 non-null object\n",
      "production_companies    9793 non-null object\n",
      "vote_count              10772 non-null int64\n",
      "vote_average            10772 non-null float64\n",
      "release_year            10772 non-null object\n",
      "budget_adj              5161 non-null float64\n",
      "revenue_adj             4848 non-null float64\n",
      "dtypes: float64(4), int64(2), object(7)\n",
      "memory usage: 1.2+ MB\n"
     ]
    }
   ],
   "source": [
    "# get a summary of the df_clean\n",
    "df_clean.info()"
   ]
  },
  {
   "cell_type": "code",
   "execution_count": 34,
   "metadata": {},
   "outputs": [
    {
     "name": "stdout",
     "output_type": "stream",
     "text": [
      "keywords\n",
      "production_companies\n",
      "budget_adj\n",
      "revenue_adj\n"
     ]
    }
   ],
   "source": [
    "# check columns with null\n",
    "for x in df_clean.columns:\n",
    "    if df_clean[x].isnull().sum() != 0:\n",
    "        print(x)"
   ]
  },
  {
   "cell_type": "markdown",
   "metadata": {},
   "source": [
    "After wrangling, the dataset now holds 10772 rows and 13 columns. 4 columns with null: keywords, production_companies, budget_adj, revenue_adj."
   ]
  },
  {
   "cell_type": "markdown",
   "metadata": {},
   "source": [
    "<a id='eda'></a>\n",
    "## Exploratory Data Analysis"
   ]
  },
  {
   "cell_type": "markdown",
   "metadata": {},
   "source": [
    "### Research Question 1: What is the distribution of average vote? "
   ]
  },
  {
   "cell_type": "markdown",
   "metadata": {},
   "source": [
    "I'll use vote_average to plot a histogram and investigate its distribution. But before that, I need to first get a high-level overview of the data."
   ]
  },
  {
   "cell_type": "code",
   "execution_count": 35,
   "metadata": {},
   "outputs": [
    {
     "data": {
      "text/html": [
       "<div>\n",
       "<style scoped>\n",
       "    .dataframe tbody tr th:only-of-type {\n",
       "        vertical-align: middle;\n",
       "    }\n",
       "\n",
       "    .dataframe tbody tr th {\n",
       "        vertical-align: top;\n",
       "    }\n",
       "\n",
       "    .dataframe thead th {\n",
       "        text-align: right;\n",
       "    }\n",
       "</style>\n",
       "<table border=\"1\" class=\"dataframe\">\n",
       "  <thead>\n",
       "    <tr style=\"text-align: right;\">\n",
       "      <th></th>\n",
       "      <th>popularity</th>\n",
       "      <th>runtime</th>\n",
       "      <th>vote_count</th>\n",
       "      <th>vote_average</th>\n",
       "      <th>budget_adj</th>\n",
       "      <th>revenue_adj</th>\n",
       "    </tr>\n",
       "  </thead>\n",
       "  <tbody>\n",
       "    <tr>\n",
       "      <th>count</th>\n",
       "      <td>10772.000000</td>\n",
       "      <td>10772.000000</td>\n",
       "      <td>10772.000000</td>\n",
       "      <td>10772.000000</td>\n",
       "      <td>5.161000e+03</td>\n",
       "      <td>4.848000e+03</td>\n",
       "    </tr>\n",
       "    <tr>\n",
       "      <th>mean</th>\n",
       "      <td>0.650643</td>\n",
       "      <td>102.455347</td>\n",
       "      <td>219.114463</td>\n",
       "      <td>5.972289</td>\n",
       "      <td>3.694143e+07</td>\n",
       "      <td>1.151223e+08</td>\n",
       "    </tr>\n",
       "    <tr>\n",
       "      <th>std</th>\n",
       "      <td>1.003319</td>\n",
       "      <td>30.379156</td>\n",
       "      <td>577.826118</td>\n",
       "      <td>0.932877</td>\n",
       "      <td>4.197228e+07</td>\n",
       "      <td>1.988706e+08</td>\n",
       "    </tr>\n",
       "    <tr>\n",
       "      <th>min</th>\n",
       "      <td>0.000188</td>\n",
       "      <td>2.000000</td>\n",
       "      <td>10.000000</td>\n",
       "      <td>1.500000</td>\n",
       "      <td>9.210911e-01</td>\n",
       "      <td>2.370705e+00</td>\n",
       "    </tr>\n",
       "    <tr>\n",
       "      <th>25%</th>\n",
       "      <td>0.209987</td>\n",
       "      <td>90.000000</td>\n",
       "      <td>17.000000</td>\n",
       "      <td>5.400000</td>\n",
       "      <td>8.131203e+06</td>\n",
       "      <td>1.046477e+07</td>\n",
       "    </tr>\n",
       "    <tr>\n",
       "      <th>50%</th>\n",
       "      <td>0.386176</td>\n",
       "      <td>99.000000</td>\n",
       "      <td>39.000000</td>\n",
       "      <td>6.000000</td>\n",
       "      <td>2.278180e+07</td>\n",
       "      <td>4.396405e+07</td>\n",
       "    </tr>\n",
       "    <tr>\n",
       "      <th>75%</th>\n",
       "      <td>0.718889</td>\n",
       "      <td>112.000000</td>\n",
       "      <td>147.000000</td>\n",
       "      <td>6.600000</td>\n",
       "      <td>5.008384e+07</td>\n",
       "      <td>1.316524e+08</td>\n",
       "    </tr>\n",
       "    <tr>\n",
       "      <th>max</th>\n",
       "      <td>32.985763</td>\n",
       "      <td>900.000000</td>\n",
       "      <td>9767.000000</td>\n",
       "      <td>9.200000</td>\n",
       "      <td>4.250000e+08</td>\n",
       "      <td>2.827124e+09</td>\n",
       "    </tr>\n",
       "  </tbody>\n",
       "</table>\n",
       "</div>"
      ],
      "text/plain": [
       "         popularity       runtime    vote_count  vote_average    budget_adj  \\\n",
       "count  10772.000000  10772.000000  10772.000000  10772.000000  5.161000e+03   \n",
       "mean       0.650643    102.455347    219.114463      5.972289  3.694143e+07   \n",
       "std        1.003319     30.379156    577.826118      0.932877  4.197228e+07   \n",
       "min        0.000188      2.000000     10.000000      1.500000  9.210911e-01   \n",
       "25%        0.209987     90.000000     17.000000      5.400000  8.131203e+06   \n",
       "50%        0.386176     99.000000     39.000000      6.000000  2.278180e+07   \n",
       "75%        0.718889    112.000000    147.000000      6.600000  5.008384e+07   \n",
       "max       32.985763    900.000000   9767.000000      9.200000  4.250000e+08   \n",
       "\n",
       "        revenue_adj  \n",
       "count  4.848000e+03  \n",
       "mean   1.151223e+08  \n",
       "std    1.988706e+08  \n",
       "min    2.370705e+00  \n",
       "25%    1.046477e+07  \n",
       "50%    4.396405e+07  \n",
       "75%    1.316524e+08  \n",
       "max    2.827124e+09  "
      ]
     },
     "execution_count": 35,
     "metadata": {},
     "output_type": "execute_result"
    }
   ],
   "source": [
    "# get a descriptive statistic summary\n",
    "df_clean.describe()"
   ]
  },
  {
   "cell_type": "code",
   "execution_count": 36,
   "metadata": {},
   "outputs": [
    {
     "data": {
      "image/png": "[encoded data removed]",
      "text/plain": [
       "<matplotlib.figure.Figure at 0x7faadc1aaa58>"
      ]
     },
     "metadata": {
      "needs_background": "light"
     },
     "output_type": "display_data"
    }
   ],
   "source": [
    "# plot a standard-scaled histogram with binsize of 0.3\n",
    "binsize = 0.3\n",
    "bins = np.arange(0, df_clean.vote_average.max()+binsize, binsize)\n",
    "\n",
    "plt.figure(figsize=[15, 10])\n",
    "plt.hist(data = df_clean, x = 'vote_average', bins = bins)\n",
    "\n",
    "# customize labels and title\n",
    "plt.xlabel('Average Vote', fontsize = 16, labelpad = 12)\n",
    "plt.ylabel('Number of Movies', fontsize = 16, labelpad = 12)\n",
    "plt.title('Distribution of Average Vote', fontweight = 'bold', fontsize = 25)\n",
    "plt.show()"
   ]
  },
  {
   "cell_type": "markdown",
   "metadata": {},
   "source": [
    "**Observation 1**: The distribtution of average vote is unimodal with very slight left skew. Big part of the data falls between 5 to 7."
   ]
  },
  {
   "cell_type": "markdown",
   "metadata": {},
   "source": [
    "### Research Question 2: What is the distribution of movie run time?"
   ]
  },
  {
   "cell_type": "code",
   "execution_count": 37,
   "metadata": {},
   "outputs": [
    {
     "data": {
      "image/png": "[encoded data removed]",
      "text/plain": [
       "<matplotlib.figure.Figure at 0x7faadc1c8d30>"
      ]
     },
     "metadata": {
      "needs_background": "light"
     },
     "output_type": "display_data"
    }
   ],
   "source": [
    "# plot a standard-scaled histogram with binsize of 10\n",
    "binsize = 10\n",
    "bins = np.arange(0, df_clean.runtime.max()+binsize, binsize)\n",
    "\n",
    "plt.figure(figsize=[15, 10])\n",
    "plt.hist(data = df_clean, x = 'runtime', bins = bins)\n",
    "\n",
    "# customize labels and title\n",
    "plt.xlabel('Movie Runtime (min)', fontsize = 16, labelpad = 12)\n",
    "plt.ylabel('Number of Movies', fontsize = 16, labelpad = 12)\n",
    "plt.title('Distribution of Movie Runtime', fontweight = 'bold', fontsize = 25)\n",
    "plt.show()"
   ]
  },
  {
   "cell_type": "markdown",
   "metadata": {},
   "source": [
    "**Observation 2.1**: In the distribtution of runtime, most of the data falls on the far left of the axe, suggesting strong outliers on the right."
   ]
  },
  {
   "cell_type": "markdown",
   "metadata": {},
   "source": [
    "Next I'll identify these outliers. I define outliers as movies with runtime over 240 min, in other words, 4 hours in total. "
   ]
  },
  {
   "cell_type": "code",
   "execution_count": 38,
   "metadata": {},
   "outputs": [
    {
     "name": "stdout",
     "output_type": "stream",
     "text": [
      "40\n"
     ]
    },
    {
     "data": {
      "text/html": [
       "<div>\n",
       "<style scoped>\n",
       "    .dataframe tbody tr th:only-of-type {\n",
       "        vertical-align: middle;\n",
       "    }\n",
       "\n",
       "    .dataframe tbody tr th {\n",
       "        vertical-align: top;\n",
       "    }\n",
       "\n",
       "    .dataframe thead th {\n",
       "        text-align: right;\n",
       "    }\n",
       "</style>\n",
       "<table border=\"1\" class=\"dataframe\">\n",
       "  <thead>\n",
       "    <tr style=\"text-align: right;\">\n",
       "      <th></th>\n",
       "      <th>id</th>\n",
       "      <th>popularity</th>\n",
       "      <th>original_title</th>\n",
       "      <th>director</th>\n",
       "      <th>keywords</th>\n",
       "      <th>runtime</th>\n",
       "      <th>genres</th>\n",
       "      <th>production_companies</th>\n",
       "      <th>vote_count</th>\n",
       "      <th>vote_average</th>\n",
       "      <th>release_year</th>\n",
       "      <th>budget_adj</th>\n",
       "      <th>revenue_adj</th>\n",
       "    </tr>\n",
       "  </thead>\n",
       "  <tbody>\n",
       "    <tr>\n",
       "      <th>3894</th>\n",
       "      <td>125336</td>\n",
       "      <td>0.006925</td>\n",
       "      <td>The Story of Film: An Odyssey</td>\n",
       "      <td>Mark Cousins</td>\n",
       "      <td>cinema|nouvelle vague|hindi cinema|cinema novo...</td>\n",
       "      <td>900</td>\n",
       "      <td>Documentary</td>\n",
       "      <td>NaN</td>\n",
       "      <td>14</td>\n",
       "      <td>9.2</td>\n",
       "      <td>2011</td>\n",
       "      <td>NaN</td>\n",
       "      <td>NaN</td>\n",
       "    </tr>\n",
       "    <tr>\n",
       "      <th>4041</th>\n",
       "      <td>150004</td>\n",
       "      <td>0.469332</td>\n",
       "      <td>Taken</td>\n",
       "      <td>Breck Eisner|FÃ©lix EnrÃ­quez AlcalÃ¡|John Faw...</td>\n",
       "      <td>NaN</td>\n",
       "      <td>877</td>\n",
       "      <td>Science Fiction</td>\n",
       "      <td>DreamWorks</td>\n",
       "      <td>38</td>\n",
       "      <td>6.8</td>\n",
       "      <td>2002</td>\n",
       "      <td>NaN</td>\n",
       "      <td>NaN</td>\n",
       "    </tr>\n",
       "    <tr>\n",
       "      <th>2722</th>\n",
       "      <td>331214</td>\n",
       "      <td>0.537593</td>\n",
       "      <td>Band of Brothers</td>\n",
       "      <td>Phil Alden Robinson|Richard Loncraine|Mikael S...</td>\n",
       "      <td>world war ii|us army|war|paratroops|combat</td>\n",
       "      <td>705</td>\n",
       "      <td>Action|Drama|War</td>\n",
       "      <td>HBO</td>\n",
       "      <td>313</td>\n",
       "      <td>8.0</td>\n",
       "      <td>2001</td>\n",
       "      <td>NaN</td>\n",
       "      <td>1.539360e+08</td>\n",
       "    </tr>\n",
       "    <tr>\n",
       "      <th>6176</th>\n",
       "      <td>42044</td>\n",
       "      <td>0.147489</td>\n",
       "      <td>Shoah</td>\n",
       "      <td>Claude Lanzmann</td>\n",
       "      <td>NaN</td>\n",
       "      <td>566</td>\n",
       "      <td>Documentary</td>\n",
       "      <td>British Broadcasting Corporation (BBC)|MinistÃ...</td>\n",
       "      <td>16</td>\n",
       "      <td>8.3</td>\n",
       "      <td>1985</td>\n",
       "      <td>NaN</td>\n",
       "      <td>NaN</td>\n",
       "    </tr>\n",
       "    <tr>\n",
       "      <th>6894</th>\n",
       "      <td>192040</td>\n",
       "      <td>0.137913</td>\n",
       "      <td>Planet Earth</td>\n",
       "      <td>Alastair Fothergill</td>\n",
       "      <td>great cinematpgraphy</td>\n",
       "      <td>550</td>\n",
       "      <td>Documentary</td>\n",
       "      <td>NaN</td>\n",
       "      <td>65</td>\n",
       "      <td>7.6</td>\n",
       "      <td>2006</td>\n",
       "      <td>NaN</td>\n",
       "      <td>NaN</td>\n",
       "    </tr>\n",
       "    <tr>\n",
       "      <th>2214</th>\n",
       "      <td>189197</td>\n",
       "      <td>0.757082</td>\n",
       "      <td>The Pacific</td>\n",
       "      <td>Jeremy Podeswa|Tim Van Patten|David Nutter|Gra...</td>\n",
       "      <td>world war ii|tv mini-series|hbo</td>\n",
       "      <td>540</td>\n",
       "      <td>War|Drama|Action|Adventure|History</td>\n",
       "      <td>Playtone|HBO|DreamWorks Television</td>\n",
       "      <td>183</td>\n",
       "      <td>7.8</td>\n",
       "      <td>2010</td>\n",
       "      <td>1.200000e+08</td>\n",
       "      <td>NaN</td>\n",
       "    </tr>\n",
       "    <tr>\n",
       "      <th>3356</th>\n",
       "      <td>118309</td>\n",
       "      <td>0.136540</td>\n",
       "      <td>John Adams</td>\n",
       "      <td>Tom Hooper</td>\n",
       "      <td>NaN</td>\n",
       "      <td>501</td>\n",
       "      <td>History|Drama</td>\n",
       "      <td>NaN</td>\n",
       "      <td>33</td>\n",
       "      <td>6.6</td>\n",
       "      <td>2008</td>\n",
       "      <td>NaN</td>\n",
       "      <td>NaN</td>\n",
       "    </tr>\n",
       "    <tr>\n",
       "      <th>1865</th>\n",
       "      <td>220903</td>\n",
       "      <td>0.102223</td>\n",
       "      <td>Life</td>\n",
       "      <td>Martha Holmes|Simon Blakeney|Stephen Lyle</td>\n",
       "      <td>plants|animal species|biology|wildlife|ecology</td>\n",
       "      <td>500</td>\n",
       "      <td>Documentary</td>\n",
       "      <td>British Broadcasting Corporation (BBC)</td>\n",
       "      <td>24</td>\n",
       "      <td>7.0</td>\n",
       "      <td>2009</td>\n",
       "      <td>NaN</td>\n",
       "      <td>NaN</td>\n",
       "    </tr>\n",
       "    <tr>\n",
       "      <th>3141</th>\n",
       "      <td>54102</td>\n",
       "      <td>0.336308</td>\n",
       "      <td>Generation Kill</td>\n",
       "      <td>Susanna White|Simon Cellan Jones</td>\n",
       "      <td>woman director</td>\n",
       "      <td>470</td>\n",
       "      <td>Drama|War|History</td>\n",
       "      <td>Company Pictures</td>\n",
       "      <td>28</td>\n",
       "      <td>6.6</td>\n",
       "      <td>2008</td>\n",
       "      <td>NaN</td>\n",
       "      <td>NaN</td>\n",
       "    </tr>\n",
       "    <tr>\n",
       "      <th>2170</th>\n",
       "      <td>367186</td>\n",
       "      <td>0.082894</td>\n",
       "      <td>The Pillars of the Earth</td>\n",
       "      <td>Sergio Mimica-Gezzan</td>\n",
       "      <td>england|based on novel|kingdom|royalty|12th ce...</td>\n",
       "      <td>421</td>\n",
       "      <td>Drama|History|Romance</td>\n",
       "      <td>Scott Free Productions|Tandem Communications|T...</td>\n",
       "      <td>22</td>\n",
       "      <td>7.3</td>\n",
       "      <td>2010</td>\n",
       "      <td>NaN</td>\n",
       "      <td>NaN</td>\n",
       "    </tr>\n",
       "    <tr>\n",
       "      <th>8766</th>\n",
       "      <td>110147</td>\n",
       "      <td>0.385239</td>\n",
       "      <td>The 10th Kingdom</td>\n",
       "      <td>David Carson|Herbert Wise</td>\n",
       "      <td>NaN</td>\n",
       "      <td>417</td>\n",
       "      <td>Adventure|Comedy|Family|Fantasy|Mystery</td>\n",
       "      <td>NaN</td>\n",
       "      <td>33</td>\n",
       "      <td>7.3</td>\n",
       "      <td>2000</td>\n",
       "      <td>NaN</td>\n",
       "      <td>NaN</td>\n",
       "    </tr>\n",
       "    <tr>\n",
       "      <th>6008</th>\n",
       "      <td>222724</td>\n",
       "      <td>0.141918</td>\n",
       "      <td>Crystal Lake Memories: The Complete History of...</td>\n",
       "      <td>Daniel Farrands</td>\n",
       "      <td>jason voorhees</td>\n",
       "      <td>400</td>\n",
       "      <td>Documentary</td>\n",
       "      <td>Hutson Ranch Media</td>\n",
       "      <td>10</td>\n",
       "      <td>6.9</td>\n",
       "      <td>2013</td>\n",
       "      <td>NaN</td>\n",
       "      <td>NaN</td>\n",
       "    </tr>\n",
       "    <tr>\n",
       "      <th>2843</th>\n",
       "      <td>200813</td>\n",
       "      <td>0.114027</td>\n",
       "      <td>The Blue Planet</td>\n",
       "      <td>Alastair Fothergill</td>\n",
       "      <td>wild sea</td>\n",
       "      <td>400</td>\n",
       "      <td>Documentary</td>\n",
       "      <td>BBC Films</td>\n",
       "      <td>22</td>\n",
       "      <td>6.9</td>\n",
       "      <td>2001</td>\n",
       "      <td>NaN</td>\n",
       "      <td>NaN</td>\n",
       "    </tr>\n",
       "    <tr>\n",
       "      <th>4788</th>\n",
       "      <td>139777</td>\n",
       "      <td>0.179240</td>\n",
       "      <td>World Without End</td>\n",
       "      <td>Michael Caton-Jones</td>\n",
       "      <td>hundred years' war|tv mini-series</td>\n",
       "      <td>389</td>\n",
       "      <td>Drama|History|Romance</td>\n",
       "      <td>Scott Free Productions|Tandem Communications|G...</td>\n",
       "      <td>10</td>\n",
       "      <td>6.1</td>\n",
       "      <td>2012</td>\n",
       "      <td>NaN</td>\n",
       "      <td>NaN</td>\n",
       "    </tr>\n",
       "    <tr>\n",
       "      <th>9300</th>\n",
       "      <td>300589</td>\n",
       "      <td>0.123132</td>\n",
       "      <td>Lonesome Dove</td>\n",
       "      <td>Simon Wincer</td>\n",
       "      <td>cattle drive|wild west|saga</td>\n",
       "      <td>372</td>\n",
       "      <td>Drama|Western|Adventure</td>\n",
       "      <td>Motown Productions|Qintex Entertainment</td>\n",
       "      <td>16</td>\n",
       "      <td>7.4</td>\n",
       "      <td>1989</td>\n",
       "      <td>NaN</td>\n",
       "      <td>NaN</td>\n",
       "    </tr>\n",
       "    <tr>\n",
       "      <th>4198</th>\n",
       "      <td>13519</td>\n",
       "      <td>1.180484</td>\n",
       "      <td>The Stand</td>\n",
       "      <td>Mick Garris</td>\n",
       "      <td>post-apocalyptic</td>\n",
       "      <td>366</td>\n",
       "      <td>Adventure|Drama|Fantasy|Horror</td>\n",
       "      <td>Laurel Entertainment|Greengrass Productions</td>\n",
       "      <td>63</td>\n",
       "      <td>6.7</td>\n",
       "      <td>1994</td>\n",
       "      <td>4.119112e+07</td>\n",
       "      <td>NaN</td>\n",
       "    </tr>\n",
       "    <tr>\n",
       "      <th>7256</th>\n",
       "      <td>89049</td>\n",
       "      <td>0.001315</td>\n",
       "      <td>SoupÃ§ons</td>\n",
       "      <td>Jean-Xavier de Lestrade</td>\n",
       "      <td>NaN</td>\n",
       "      <td>360</td>\n",
       "      <td>Drama|Documentary</td>\n",
       "      <td>NaN</td>\n",
       "      <td>12</td>\n",
       "      <td>7.5</td>\n",
       "      <td>2004</td>\n",
       "      <td>NaN</td>\n",
       "      <td>NaN</td>\n",
       "    </tr>\n",
       "    <tr>\n",
       "      <th>5121</th>\n",
       "      <td>24019</td>\n",
       "      <td>0.321600</td>\n",
       "      <td>Angels in America</td>\n",
       "      <td>Mike Nichols</td>\n",
       "      <td>gay|new york|aids|hiv|based on play</td>\n",
       "      <td>352</td>\n",
       "      <td>Drama|Fantasy</td>\n",
       "      <td>Avenue Pictures Productions|Panorama Films|HBO...</td>\n",
       "      <td>31</td>\n",
       "      <td>6.1</td>\n",
       "      <td>2003</td>\n",
       "      <td>7.112116e+07</td>\n",
       "      <td>NaN</td>\n",
       "    </tr>\n",
       "    <tr>\n",
       "      <th>2107</th>\n",
       "      <td>43434</td>\n",
       "      <td>0.534192</td>\n",
       "      <td>Carlos</td>\n",
       "      <td>Olivier Assayas</td>\n",
       "      <td>gun|car bomb|tv mini-series|terrorism|opec</td>\n",
       "      <td>338</td>\n",
       "      <td>Crime|Drama|Thriller|History</td>\n",
       "      <td>Egoli Tossell Film AG|Canal+|Arte France|Films...</td>\n",
       "      <td>35</td>\n",
       "      <td>6.2</td>\n",
       "      <td>2010</td>\n",
       "      <td>1.800000e+07</td>\n",
       "      <td>8.712790e+05</td>\n",
       "    </tr>\n",
       "    <tr>\n",
       "      <th>3886</th>\n",
       "      <td>202241</td>\n",
       "      <td>0.044221</td>\n",
       "      <td>Mildred Pierce</td>\n",
       "      <td>Todd Haynes</td>\n",
       "      <td>infidelity|business woman|from rags to riches</td>\n",
       "      <td>336</td>\n",
       "      <td>Drama</td>\n",
       "      <td>Home Box Office (HBO)|Metro-Goldwyn-Mayer (MGM)</td>\n",
       "      <td>21</td>\n",
       "      <td>6.6</td>\n",
       "      <td>2011</td>\n",
       "      <td>1.938796e+07</td>\n",
       "      <td>NaN</td>\n",
       "    </tr>\n",
       "    <tr>\n",
       "      <th>415</th>\n",
       "      <td>340968</td>\n",
       "      <td>0.249595</td>\n",
       "      <td>Show Me a Hero</td>\n",
       "      <td>Paul Haggis</td>\n",
       "      <td>mayor|politics|murder|tv mini-series|racism</td>\n",
       "      <td>300</td>\n",
       "      <td>History|Crime|Drama</td>\n",
       "      <td>NaN</td>\n",
       "      <td>32</td>\n",
       "      <td>7.7</td>\n",
       "      <td>2015</td>\n",
       "      <td>NaN</td>\n",
       "      <td>NaN</td>\n",
       "    </tr>\n",
       "    <tr>\n",
       "      <th>8173</th>\n",
       "      <td>164721</td>\n",
       "      <td>0.399720</td>\n",
       "      <td>Pride and Prejudice</td>\n",
       "      <td>Simon Langton</td>\n",
       "      <td>NaN</td>\n",
       "      <td>300</td>\n",
       "      <td>Romance|Drama</td>\n",
       "      <td>British Broadcasting Corporation (BBC)</td>\n",
       "      <td>89</td>\n",
       "      <td>7.8</td>\n",
       "      <td>1995</td>\n",
       "      <td>NaN</td>\n",
       "      <td>NaN</td>\n",
       "    </tr>\n",
       "    <tr>\n",
       "      <th>7267</th>\n",
       "      <td>203766</td>\n",
       "      <td>0.001531</td>\n",
       "      <td>Long Way Round</td>\n",
       "      <td>Russ Malkin|David Alexanian</td>\n",
       "      <td>NaN</td>\n",
       "      <td>294</td>\n",
       "      <td>Documentary|Adventure</td>\n",
       "      <td>NaN</td>\n",
       "      <td>11</td>\n",
       "      <td>7.0</td>\n",
       "      <td>2004</td>\n",
       "      <td>NaN</td>\n",
       "      <td>NaN</td>\n",
       "    </tr>\n",
       "    <tr>\n",
       "      <th>8768</th>\n",
       "      <td>876</td>\n",
       "      <td>0.381729</td>\n",
       "      <td>Frank Herbert's Dune</td>\n",
       "      <td>John Harrison</td>\n",
       "      <td>imperator|rebel|prophecy|telepathy|sandstorm</td>\n",
       "      <td>292</td>\n",
       "      <td>Action|Adventure|Fantasy|Science Fiction</td>\n",
       "      <td>New Amsterdam Entertainment|Tandem Communications</td>\n",
       "      <td>67</td>\n",
       "      <td>6.5</td>\n",
       "      <td>2000</td>\n",
       "      <td>2.532584e+07</td>\n",
       "      <td>NaN</td>\n",
       "    </tr>\n",
       "    <tr>\n",
       "      <th>1235</th>\n",
       "      <td>242754</td>\n",
       "      <td>0.093377</td>\n",
       "      <td>Klondike</td>\n",
       "      <td>Simon Cellan Jones</td>\n",
       "      <td>gold rush|tv mini-series</td>\n",
       "      <td>285</td>\n",
       "      <td>Drama|History</td>\n",
       "      <td>Scott Free Productions|Discovery Channel|E1 En...</td>\n",
       "      <td>17</td>\n",
       "      <td>6.7</td>\n",
       "      <td>2014</td>\n",
       "      <td>NaN</td>\n",
       "      <td>NaN</td>\n",
       "    </tr>\n",
       "    <tr>\n",
       "      <th>1183</th>\n",
       "      <td>312497</td>\n",
       "      <td>0.028695</td>\n",
       "      <td>Ascension</td>\n",
       "      <td>Mairzee Almas|Nick Copus|Robert Lieberman</td>\n",
       "      <td>woman director</td>\n",
       "      <td>282</td>\n",
       "      <td>Drama|Science Fiction|TV Movie</td>\n",
       "      <td>NaN</td>\n",
       "      <td>30</td>\n",
       "      <td>5.5</td>\n",
       "      <td>2014</td>\n",
       "      <td>NaN</td>\n",
       "      <td>NaN</td>\n",
       "    </tr>\n",
       "    <tr>\n",
       "      <th>4306</th>\n",
       "      <td>22137</td>\n",
       "      <td>0.244790</td>\n",
       "      <td>Riget</td>\n",
       "      <td>Lars von Trier</td>\n",
       "      <td>hospital</td>\n",
       "      <td>273</td>\n",
       "      <td>Horror|Mystery</td>\n",
       "      <td>Zentropa</td>\n",
       "      <td>20</td>\n",
       "      <td>6.8</td>\n",
       "      <td>1994</td>\n",
       "      <td>NaN</td>\n",
       "      <td>NaN</td>\n",
       "    </tr>\n",
       "    <tr>\n",
       "      <th>5330</th>\n",
       "      <td>106035</td>\n",
       "      <td>0.427343</td>\n",
       "      <td>The Shining</td>\n",
       "      <td>Mick Garris</td>\n",
       "      <td>hotel|teacher|tv mini-series|cameo appearance|...</td>\n",
       "      <td>273</td>\n",
       "      <td>Drama|Horror|Thriller|TV Movie</td>\n",
       "      <td>Lakeside Productions</td>\n",
       "      <td>37</td>\n",
       "      <td>6.1</td>\n",
       "      <td>1997</td>\n",
       "      <td>NaN</td>\n",
       "      <td>NaN</td>\n",
       "    </tr>\n",
       "    <tr>\n",
       "      <th>6829</th>\n",
       "      <td>134777</td>\n",
       "      <td>0.265388</td>\n",
       "      <td>The Lost Room</td>\n",
       "      <td>Craig R. Baxley|Michael W. Watkins</td>\n",
       "      <td>NaN</td>\n",
       "      <td>270</td>\n",
       "      <td>Action|Fantasy|Mystery</td>\n",
       "      <td>Lions Gate|Motel Man Productions</td>\n",
       "      <td>28</td>\n",
       "      <td>7.2</td>\n",
       "      <td>2006</td>\n",
       "      <td>NaN</td>\n",
       "      <td>NaN</td>\n",
       "    </tr>\n",
       "    <tr>\n",
       "      <th>7608</th>\n",
       "      <td>114796</td>\n",
       "      <td>0.396494</td>\n",
       "      <td>Tin Man</td>\n",
       "      <td>Nick Willing</td>\n",
       "      <td>NaN</td>\n",
       "      <td>270</td>\n",
       "      <td>Adventure|Fantasy|Science Fiction</td>\n",
       "      <td>RHI</td>\n",
       "      <td>26</td>\n",
       "      <td>6.8</td>\n",
       "      <td>2007</td>\n",
       "      <td>NaN</td>\n",
       "      <td>NaN</td>\n",
       "    </tr>\n",
       "    <tr>\n",
       "      <th>2630</th>\n",
       "      <td>310154</td>\n",
       "      <td>0.038156</td>\n",
       "      <td>Storm of the Century</td>\n",
       "      <td>Craig R. Baxley</td>\n",
       "      <td>snow storm|stephen king|mysterious stranger</td>\n",
       "      <td>257</td>\n",
       "      <td>Thriller|Horror</td>\n",
       "      <td>NaN</td>\n",
       "      <td>23</td>\n",
       "      <td>5.2</td>\n",
       "      <td>1999</td>\n",
       "      <td>NaN</td>\n",
       "      <td>NaN</td>\n",
       "    </tr>\n",
       "    <tr>\n",
       "      <th>4098</th>\n",
       "      <td>14980</td>\n",
       "      <td>0.268161</td>\n",
       "      <td>Rose Red</td>\n",
       "      <td>Craig R. Baxley</td>\n",
       "      <td>upper class|professor|haunted house|psychic power</td>\n",
       "      <td>254</td>\n",
       "      <td>Drama|Horror|Thriller</td>\n",
       "      <td>Greengrass Productions</td>\n",
       "      <td>44</td>\n",
       "      <td>6.7</td>\n",
       "      <td>2002</td>\n",
       "      <td>NaN</td>\n",
       "      <td>NaN</td>\n",
       "    </tr>\n",
       "    <tr>\n",
       "      <th>10304</th>\n",
       "      <td>10655</td>\n",
       "      <td>0.467083</td>\n",
       "      <td>Gettysburg</td>\n",
       "      <td>Ronald F. Maxwell</td>\n",
       "      <td>civil war|troops|independence day|army|battle</td>\n",
       "      <td>254</td>\n",
       "      <td>War|Drama|History</td>\n",
       "      <td>TriStar Television|Esparza / Katz Productions</td>\n",
       "      <td>46</td>\n",
       "      <td>6.4</td>\n",
       "      <td>1993</td>\n",
       "      <td>NaN</td>\n",
       "      <td>3.773675e+07</td>\n",
       "    </tr>\n",
       "    <tr>\n",
       "      <th>4864</th>\n",
       "      <td>200035</td>\n",
       "      <td>0.105431</td>\n",
       "      <td>Political Animals</td>\n",
       "      <td>David Petrarca</td>\n",
       "      <td>NaN</td>\n",
       "      <td>252</td>\n",
       "      <td>Drama</td>\n",
       "      <td>NaN</td>\n",
       "      <td>12</td>\n",
       "      <td>7.1</td>\n",
       "      <td>2012</td>\n",
       "      <td>NaN</td>\n",
       "      <td>NaN</td>\n",
       "    </tr>\n",
       "    <tr>\n",
       "      <th>4030</th>\n",
       "      <td>12224</td>\n",
       "      <td>0.505750</td>\n",
       "      <td>Dinotopia</td>\n",
       "      <td>Marco Brambilla</td>\n",
       "      <td>island|dinosaur</td>\n",
       "      <td>250</td>\n",
       "      <td>Action|Adventure|Family|Fantasy|Science Fiction</td>\n",
       "      <td>NaN</td>\n",
       "      <td>47</td>\n",
       "      <td>5.6</td>\n",
       "      <td>2002</td>\n",
       "      <td>NaN</td>\n",
       "      <td>NaN</td>\n",
       "    </tr>\n",
       "    <tr>\n",
       "      <th>5163</th>\n",
       "      <td>192936</td>\n",
       "      <td>0.207399</td>\n",
       "      <td>Frank Herbert's Children of Dune</td>\n",
       "      <td>Greg Yaitanes</td>\n",
       "      <td>prophecy|telepathy|sandstorm|title of nobility...</td>\n",
       "      <td>248</td>\n",
       "      <td>Drama|Science Fiction|Fantasy|Adventure</td>\n",
       "      <td>New Amsterdam Entertainment|Blixa Film Product...</td>\n",
       "      <td>35</td>\n",
       "      <td>6.5</td>\n",
       "      <td>2003</td>\n",
       "      <td>2.370705e+07</td>\n",
       "      <td>NaN</td>\n",
       "    </tr>\n",
       "    <tr>\n",
       "      <th>10443</th>\n",
       "      <td>8095</td>\n",
       "      <td>0.804533</td>\n",
       "      <td>Cleopatra</td>\n",
       "      <td>Joseph L. Mankiewicz|Rouben Mamoulian|Darryl F...</td>\n",
       "      <td>ancient rome|historical figure|cleopatra|juliu...</td>\n",
       "      <td>248</td>\n",
       "      <td>Drama|History|Romance</td>\n",
       "      <td>Twentieth Century Fox Film Corporation|MCL Fil...</td>\n",
       "      <td>68</td>\n",
       "      <td>6.3</td>\n",
       "      <td>1963</td>\n",
       "      <td>2.215444e+08</td>\n",
       "      <td>4.111904e+08</td>\n",
       "    </tr>\n",
       "    <tr>\n",
       "      <th>3826</th>\n",
       "      <td>414419</td>\n",
       "      <td>0.146477</td>\n",
       "      <td>Kill Bill: The Whole Bloody Affair</td>\n",
       "      <td>Quentin Tarantino</td>\n",
       "      <td>sword|martial law|revenge|wedding</td>\n",
       "      <td>247</td>\n",
       "      <td>Crime|Action</td>\n",
       "      <td>Miramax Films|A Band Apart|Super Cool ManChu</td>\n",
       "      <td>28</td>\n",
       "      <td>8.1</td>\n",
       "      <td>2011</td>\n",
       "      <td>2.908194e+07</td>\n",
       "      <td>NaN</td>\n",
       "    </tr>\n",
       "    <tr>\n",
       "      <th>559</th>\n",
       "      <td>373977</td>\n",
       "      <td>0.031635</td>\n",
       "      <td>Childhood's End</td>\n",
       "      <td>Nick Hurran</td>\n",
       "      <td>NaN</td>\n",
       "      <td>246</td>\n",
       "      <td>Thriller|TV Movie|Science Fiction|Drama</td>\n",
       "      <td>NaN</td>\n",
       "      <td>21</td>\n",
       "      <td>6.2</td>\n",
       "      <td>2015</td>\n",
       "      <td>NaN</td>\n",
       "      <td>NaN</td>\n",
       "    </tr>\n",
       "    <tr>\n",
       "      <th>8573</th>\n",
       "      <td>10549</td>\n",
       "      <td>0.383469</td>\n",
       "      <td>Hamlet</td>\n",
       "      <td>Kenneth Branagh</td>\n",
       "      <td>mother|denmark|loss of father|prince|shakespea...</td>\n",
       "      <td>242</td>\n",
       "      <td>Drama</td>\n",
       "      <td>Castle Rock Entertainment|Turner Pictures (I)</td>\n",
       "      <td>51</td>\n",
       "      <td>6.7</td>\n",
       "      <td>1996</td>\n",
       "      <td>NaN</td>\n",
       "      <td>NaN</td>\n",
       "    </tr>\n",
       "  </tbody>\n",
       "</table>\n",
       "</div>"
      ],
      "text/plain": [
       "           id  popularity                                     original_title  \\\n",
       "3894   125336    0.006925                      The Story of Film: An Odyssey   \n",
       "4041   150004    0.469332                                              Taken   \n",
       "2722   331214    0.537593                                   Band of Brothers   \n",
       "6176    42044    0.147489                                              Shoah   \n",
       "6894   192040    0.137913                                       Planet Earth   \n",
       "2214   189197    0.757082                                        The Pacific   \n",
       "3356   118309    0.136540                                         John Adams   \n",
       "1865   220903    0.102223                                               Life   \n",
       "3141    54102    0.336308                                    Generation Kill   \n",
       "2170   367186    0.082894                           The Pillars of the Earth   \n",
       "8766   110147    0.385239                                   The 10th Kingdom   \n",
       "6008   222724    0.141918  Crystal Lake Memories: The Complete History of...   \n",
       "2843   200813    0.114027                                    The Blue Planet   \n",
       "4788   139777    0.179240                                  World Without End   \n",
       "9300   300589    0.123132                                      Lonesome Dove   \n",
       "4198    13519    1.180484                                          The Stand   \n",
       "7256    89049    0.001315                                          SoupÃ§ons   \n",
       "5121    24019    0.321600                                  Angels in America   \n",
       "2107    43434    0.534192                                             Carlos   \n",
       "3886   202241    0.044221                                     Mildred Pierce   \n",
       "415    340968    0.249595                                     Show Me a Hero   \n",
       "8173   164721    0.399720                                Pride and Prejudice   \n",
       "7267   203766    0.001531                                     Long Way Round   \n",
       "8768      876    0.381729                               Frank Herbert's Dune   \n",
       "1235   242754    0.093377                                           Klondike   \n",
       "1183   312497    0.028695                                          Ascension   \n",
       "4306    22137    0.244790                                              Riget   \n",
       "5330   106035    0.427343                                        The Shining   \n",
       "6829   134777    0.265388                                      The Lost Room   \n",
       "7608   114796    0.396494                                            Tin Man   \n",
       "2630   310154    0.038156                               Storm of the Century   \n",
       "4098    14980    0.268161                                           Rose Red   \n",
       "10304   10655    0.467083                                         Gettysburg   \n",
       "4864   200035    0.105431                                  Political Animals   \n",
       "4030    12224    0.505750                                          Dinotopia   \n",
       "5163   192936    0.207399                   Frank Herbert's Children of Dune   \n",
       "10443    8095    0.804533                                          Cleopatra   \n",
       "3826   414419    0.146477                 Kill Bill: The Whole Bloody Affair   \n",
       "559    373977    0.031635                                    Childhood's End   \n",
       "8573    10549    0.383469                                             Hamlet   \n",
       "\n",
       "                                                director  \\\n",
       "3894                                        Mark Cousins   \n",
       "4041   Breck Eisner|FÃ©lix EnrÃ­quez AlcalÃ¡|John Faw...   \n",
       "2722   Phil Alden Robinson|Richard Loncraine|Mikael S...   \n",
       "6176                                     Claude Lanzmann   \n",
       "6894                                 Alastair Fothergill   \n",
       "2214   Jeremy Podeswa|Tim Van Patten|David Nutter|Gra...   \n",
       "3356                                          Tom Hooper   \n",
       "1865           Martha Holmes|Simon Blakeney|Stephen Lyle   \n",
       "3141                    Susanna White|Simon Cellan Jones   \n",
       "2170                                Sergio Mimica-Gezzan   \n",
       "8766                           David Carson|Herbert Wise   \n",
       "6008                                     Daniel Farrands   \n",
       "2843                                 Alastair Fothergill   \n",
       "4788                                 Michael Caton-Jones   \n",
       "9300                                        Simon Wincer   \n",
       "4198                                         Mick Garris   \n",
       "7256                             Jean-Xavier de Lestrade   \n",
       "5121                                        Mike Nichols   \n",
       "2107                                     Olivier Assayas   \n",
       "3886                                         Todd Haynes   \n",
       "415                                          Paul Haggis   \n",
       "8173                                       Simon Langton   \n",
       "7267                         Russ Malkin|David Alexanian   \n",
       "8768                                       John Harrison   \n",
       "1235                                  Simon Cellan Jones   \n",
       "1183           Mairzee Almas|Nick Copus|Robert Lieberman   \n",
       "4306                                      Lars von Trier   \n",
       "5330                                         Mick Garris   \n",
       "6829                  Craig R. Baxley|Michael W. Watkins   \n",
       "7608                                        Nick Willing   \n",
       "2630                                     Craig R. Baxley   \n",
       "4098                                     Craig R. Baxley   \n",
       "10304                                  Ronald F. Maxwell   \n",
       "4864                                      David Petrarca   \n",
       "4030                                     Marco Brambilla   \n",
       "5163                                       Greg Yaitanes   \n",
       "10443  Joseph L. Mankiewicz|Rouben Mamoulian|Darryl F...   \n",
       "3826                                   Quentin Tarantino   \n",
       "559                                          Nick Hurran   \n",
       "8573                                     Kenneth Branagh   \n",
       "\n",
       "                                                keywords  runtime  \\\n",
       "3894   cinema|nouvelle vague|hindi cinema|cinema novo...      900   \n",
       "4041                                                 NaN      877   \n",
       "2722          world war ii|us army|war|paratroops|combat      705   \n",
       "6176                                                 NaN      566   \n",
       "6894                                great cinematpgraphy      550   \n",
       "2214                     world war ii|tv mini-series|hbo      540   \n",
       "3356                                                 NaN      501   \n",
       "1865      plants|animal species|biology|wildlife|ecology      500   \n",
       "3141                                      woman director      470   \n",
       "2170   england|based on novel|kingdom|royalty|12th ce...      421   \n",
       "8766                                                 NaN      417   \n",
       "6008                                      jason voorhees      400   \n",
       "2843                                            wild sea      400   \n",
       "4788                   hundred years' war|tv mini-series      389   \n",
       "9300                         cattle drive|wild west|saga      372   \n",
       "4198                                    post-apocalyptic      366   \n",
       "7256                                                 NaN      360   \n",
       "5121                 gay|new york|aids|hiv|based on play      352   \n",
       "2107          gun|car bomb|tv mini-series|terrorism|opec      338   \n",
       "3886       infidelity|business woman|from rags to riches      336   \n",
       "415          mayor|politics|murder|tv mini-series|racism      300   \n",
       "8173                                                 NaN      300   \n",
       "7267                                                 NaN      294   \n",
       "8768        imperator|rebel|prophecy|telepathy|sandstorm      292   \n",
       "1235                            gold rush|tv mini-series      285   \n",
       "1183                                      woman director      282   \n",
       "4306                                            hospital      273   \n",
       "5330   hotel|teacher|tv mini-series|cameo appearance|...      273   \n",
       "6829                                                 NaN      270   \n",
       "7608                                                 NaN      270   \n",
       "2630         snow storm|stephen king|mysterious stranger      257   \n",
       "4098   upper class|professor|haunted house|psychic power      254   \n",
       "10304      civil war|troops|independence day|army|battle      254   \n",
       "4864                                                 NaN      252   \n",
       "4030                                     island|dinosaur      250   \n",
       "5163   prophecy|telepathy|sandstorm|title of nobility...      248   \n",
       "10443  ancient rome|historical figure|cleopatra|juliu...      248   \n",
       "3826                   sword|martial law|revenge|wedding      247   \n",
       "559                                                  NaN      246   \n",
       "8573   mother|denmark|loss of father|prince|shakespea...      242   \n",
       "\n",
       "                                                genres  \\\n",
       "3894                                       Documentary   \n",
       "4041                                   Science Fiction   \n",
       "2722                                  Action|Drama|War   \n",
       "6176                                       Documentary   \n",
       "6894                                       Documentary   \n",
       "2214                War|Drama|Action|Adventure|History   \n",
       "3356                                     History|Drama   \n",
       "1865                                       Documentary   \n",
       "3141                                 Drama|War|History   \n",
       "2170                             Drama|History|Romance   \n",
       "8766           Adventure|Comedy|Family|Fantasy|Mystery   \n",
       "6008                                       Documentary   \n",
       "2843                                       Documentary   \n",
       "4788                             Drama|History|Romance   \n",
       "9300                           Drama|Western|Adventure   \n",
       "4198                    Adventure|Drama|Fantasy|Horror   \n",
       "7256                                 Drama|Documentary   \n",
       "5121                                     Drama|Fantasy   \n",
       "2107                      Crime|Drama|Thriller|History   \n",
       "3886                                             Drama   \n",
       "415                                History|Crime|Drama   \n",
       "8173                                     Romance|Drama   \n",
       "7267                             Documentary|Adventure   \n",
       "8768          Action|Adventure|Fantasy|Science Fiction   \n",
       "1235                                     Drama|History   \n",
       "1183                    Drama|Science Fiction|TV Movie   \n",
       "4306                                    Horror|Mystery   \n",
       "5330                    Drama|Horror|Thriller|TV Movie   \n",
       "6829                            Action|Fantasy|Mystery   \n",
       "7608                 Adventure|Fantasy|Science Fiction   \n",
       "2630                                   Thriller|Horror   \n",
       "4098                             Drama|Horror|Thriller   \n",
       "10304                                War|Drama|History   \n",
       "4864                                             Drama   \n",
       "4030   Action|Adventure|Family|Fantasy|Science Fiction   \n",
       "5163           Drama|Science Fiction|Fantasy|Adventure   \n",
       "10443                            Drama|History|Romance   \n",
       "3826                                      Crime|Action   \n",
       "559            Thriller|TV Movie|Science Fiction|Drama   \n",
       "8573                                             Drama   \n",
       "\n",
       "                                    production_companies  vote_count  \\\n",
       "3894                                                 NaN          14   \n",
       "4041                                          DreamWorks          38   \n",
       "2722                                                 HBO         313   \n",
       "6176   British Broadcasting Corporation (BBC)|MinistÃ...          16   \n",
       "6894                                                 NaN          65   \n",
       "2214                  Playtone|HBO|DreamWorks Television         183   \n",
       "3356                                                 NaN          33   \n",
       "1865              British Broadcasting Corporation (BBC)          24   \n",
       "3141                                    Company Pictures          28   \n",
       "2170   Scott Free Productions|Tandem Communications|T...          22   \n",
       "8766                                                 NaN          33   \n",
       "6008                                  Hutson Ranch Media          10   \n",
       "2843                                           BBC Films          22   \n",
       "4788   Scott Free Productions|Tandem Communications|G...          10   \n",
       "9300             Motown Productions|Qintex Entertainment          16   \n",
       "4198         Laurel Entertainment|Greengrass Productions          63   \n",
       "7256                                                 NaN          12   \n",
       "5121   Avenue Pictures Productions|Panorama Films|HBO...          31   \n",
       "2107   Egoli Tossell Film AG|Canal+|Arte France|Films...          35   \n",
       "3886     Home Box Office (HBO)|Metro-Goldwyn-Mayer (MGM)          21   \n",
       "415                                                  NaN          32   \n",
       "8173              British Broadcasting Corporation (BBC)          89   \n",
       "7267                                                 NaN          11   \n",
       "8768   New Amsterdam Entertainment|Tandem Communications          67   \n",
       "1235   Scott Free Productions|Discovery Channel|E1 En...          17   \n",
       "1183                                                 NaN          30   \n",
       "4306                                            Zentropa          20   \n",
       "5330                                Lakeside Productions          37   \n",
       "6829                    Lions Gate|Motel Man Productions          28   \n",
       "7608                                                 RHI          26   \n",
       "2630                                                 NaN          23   \n",
       "4098                              Greengrass Productions          44   \n",
       "10304      TriStar Television|Esparza / Katz Productions          46   \n",
       "4864                                                 NaN          12   \n",
       "4030                                                 NaN          47   \n",
       "5163   New Amsterdam Entertainment|Blixa Film Product...          35   \n",
       "10443  Twentieth Century Fox Film Corporation|MCL Fil...          68   \n",
       "3826        Miramax Films|A Band Apart|Super Cool ManChu          28   \n",
       "559                                                  NaN          21   \n",
       "8573       Castle Rock Entertainment|Turner Pictures (I)          51   \n",
       "\n",
       "       vote_average release_year    budget_adj   revenue_adj  \n",
       "3894            9.2         2011           NaN           NaN  \n",
       "4041            6.8         2002           NaN           NaN  \n",
       "2722            8.0         2001           NaN  1.539360e+08  \n",
       "6176            8.3         1985           NaN           NaN  \n",
       "6894            7.6         2006           NaN           NaN  \n",
       "2214            7.8         2010  1.200000e+08           NaN  \n",
       "3356            6.6         2008           NaN           NaN  \n",
       "1865            7.0         2009           NaN           NaN  \n",
       "3141            6.6         2008           NaN           NaN  \n",
       "2170            7.3         2010           NaN           NaN  \n",
       "8766            7.3         2000           NaN           NaN  \n",
       "6008            6.9         2013           NaN           NaN  \n",
       "2843            6.9         2001           NaN           NaN  \n",
       "4788            6.1         2012           NaN           NaN  \n",
       "9300            7.4         1989           NaN           NaN  \n",
       "4198            6.7         1994  4.119112e+07           NaN  \n",
       "7256            7.5         2004           NaN           NaN  \n",
       "5121            6.1         2003  7.112116e+07           NaN  \n",
       "2107            6.2         2010  1.800000e+07  8.712790e+05  \n",
       "3886            6.6         2011  1.938796e+07           NaN  \n",
       "415             7.7         2015           NaN           NaN  \n",
       "8173            7.8         1995           NaN           NaN  \n",
       "7267            7.0         2004           NaN           NaN  \n",
       "8768            6.5         2000  2.532584e+07           NaN  \n",
       "1235            6.7         2014           NaN           NaN  \n",
       "1183            5.5         2014           NaN           NaN  \n",
       "4306            6.8         1994           NaN           NaN  \n",
       "5330            6.1         1997           NaN           NaN  \n",
       "6829            7.2         2006           NaN           NaN  \n",
       "7608            6.8         2007           NaN           NaN  \n",
       "2630            5.2         1999           NaN           NaN  \n",
       "4098            6.7         2002           NaN           NaN  \n",
       "10304           6.4         1993           NaN  3.773675e+07  \n",
       "4864            7.1         2012           NaN           NaN  \n",
       "4030            5.6         2002           NaN           NaN  \n",
       "5163            6.5         2003  2.370705e+07           NaN  \n",
       "10443           6.3         1963  2.215444e+08  4.111904e+08  \n",
       "3826            8.1         2011  2.908194e+07           NaN  \n",
       "559             6.2         2015           NaN           NaN  \n",
       "8573            6.7         1996           NaN           NaN  "
      ]
     },
     "execution_count": 38,
     "metadata": {},
     "output_type": "execute_result"
    }
   ],
   "source": [
    "# select high outliers by obervation from the plot\n",
    "high_outliers = (df_clean['runtime'] > 240) \n",
    "print(high_outliers.sum())\n",
    "df_clean.loc[high_outliers,:].sort_values(by='runtime', ascending = False)"
   ]
  },
  {
   "cell_type": "markdown",
   "metadata": {},
   "source": [
    "**Observation 2.2**: There are 40 movies with runtime more than 4 hours. The longest movie is 'The Story of Film: An Odyssey', with a total runtime of 15 hours. "
   ]
  },
  {
   "cell_type": "markdown",
   "metadata": {},
   "source": [
    "To better observe the major part of runtime distribution, I'll set a limit for runtime to exclude the high outliers."
   ]
  },
  {
   "cell_type": "code",
   "execution_count": 39,
   "metadata": {},
   "outputs": [
    {
     "data": {
      "image/png": "[encoded data removed]",
      "text/plain": [
       "<matplotlib.figure.Figure at 0x7faadc0ad898>"
      ]
     },
     "metadata": {
      "needs_background": "light"
     },
     "output_type": "display_data"
    }
   ],
   "source": [
    "# set the ceiling for runtime and replot a distribution\n",
    "binsize = 10\n",
    "bins = np.arange(0, df_clean.runtime.max()+binsize, binsize)\n",
    "\n",
    "plt.figure(figsize=[15, 10])\n",
    "plt.hist(data = df_clean, x = 'runtime', bins = bins)\n",
    "\n",
    "# customize the labels and title\n",
    "plt.xlabel('Movie Runtime (min)', fontsize = 16, labelpad = 12)\n",
    "plt.ylabel('Number of Movies', fontsize = 16, labelpad = 12)\n",
    "plt.xlim([0, 240])\n",
    "plt.title('Distribution of Movie Runtime', fontweight = 'bold', fontsize = 25)\n",
    "plt.show()"
   ]
  },
  {
   "cell_type": "markdown",
   "metadata": {},
   "source": [
    "**Observation 2.3**: The distribtution of runtime is unimodal with right skew. Large part of the data falls between 80 and 120. "
   ]
  },
  {
   "cell_type": "markdown",
   "metadata": {},
   "source": [
    "### Research Question 3: What is the trend regarding number of released movies over the past half century?"
   ]
  },
  {
   "cell_type": "markdown",
   "metadata": {},
   "source": [
    "`Thought process`:<br> \n",
    "- group the data by release_year \n",
    "- count the total number of movies for each year\n",
    "- plot a line chart using release_year as y-axis, and number of movies as x-axis\n",
    "- add annotation for points of interest along the line chart"
   ]
  },
  {
   "cell_type": "code",
   "execution_count": 40,
   "metadata": {},
   "outputs": [],
   "source": [
    "# group by release_year and get the count of movies for each year\n",
    "yrs_movies = df_clean.groupby('release_year').count()['id']\n",
    "movies_by_years = yrs_movies.values\n",
    "# get all the release_year values\n",
    "years = yrs_movies.index"
   ]
  },
  {
   "cell_type": "code",
   "execution_count": 41,
   "metadata": {},
   "outputs": [
    {
     "name": "stdout",
     "output_type": "stream",
     "text": [
      "1960 2015\n"
     ]
    }
   ],
   "source": [
    "# display the first and last year in release_year\n",
    "first_yr = years[0]\n",
    "last_yr = years[-1]\n",
    "print(first_yr, last_yr)"
   ]
  },
  {
   "cell_type": "code",
   "execution_count": 42,
   "metadata": {},
   "outputs": [],
   "source": [
    "# get the years that first reach the threshold of 200, 400, 600 movies respectively\n",
    "# and get the number of movies corresponding to these years\n",
    "thresholds = [200, 400, 600]\n",
    "yrs_thresholds = []\n",
    "mvs_thresholds = []\n",
    "for x in thresholds:\n",
    "    yrs_thresholds.append(yrs_movies[movies_by_years>x].index[0])\n",
    "    mvs_thresholds.append(yrs_movies[movies_by_years>x].values[0])"
   ]
  },
  {
   "cell_type": "code",
   "execution_count": 43,
   "metadata": {},
   "outputs": [
    {
     "data": {
      "text/plain": [
       "Text(0.5,1,'Number of Movies by Year')"
      ]
     },
     "execution_count": 43,
     "metadata": {},
     "output_type": "execute_result"
    },
    {
     "data": {
      "image/png": "[encoded data removed]",
      "text/plain": [
       "<matplotlib.figure.Figure at 0x7faadbaab7b8>"
      ]
     },
     "metadata": {
      "needs_background": "light"
     },
     "output_type": "display_data"
    }
   ],
   "source": [
    "# plot a line chart\n",
    "plt.figure(figsize=(20,10))\n",
    "plt.plot(years, movies_by_years, color = 'b', alpha = 0.8)\n",
    "\n",
    "# add labels of points of interest\n",
    "for x,y in zip(yrs_thresholds, mvs_thresholds):\n",
    "    label = \"{} movies in {}\".format(y, x)\n",
    "#     plt.text(x, y, '{} movies in {}'.format(y, x), fontsize = 13, horizontalalignment = 'center')\n",
    "    plt.annotate(label, (x,y), textcoords=\"offset points\", \n",
    "                 xytext=(0,30), ha='center',\n",
    "                 fontsize = 15,\n",
    "                 arrowprops = dict(facecolor='salmon'))\n",
    "# customize ticks, labels, and title    \n",
    "plt.xticks(np.arange(1960, 2015+5, 5), np.arange(1960, 2015+5, 5), fontsize = 16)\n",
    "plt.yticks(fontsize = 16)\n",
    "plt.xlabel('Year', fontweight = 'bold', fontsize = 18, labelpad = 20)\n",
    "plt.ylabel('Number of Movies', fontweight = 'bold', fontsize = 18, labelpad = 20)\n",
    "plt.title('Number of Movies by Year', fontweight = 'bold', fontsize = 30)"
   ]
  },
  {
   "cell_type": "markdown",
   "metadata": {},
   "source": [
    "**Observation 3**: the number of movies released has an overall trend of increasing from 1960 to 2015 <br><br>\n",
    "**Obeservation 3.1**: the number of movies released started to rocket up in 1995, and has been staying strong consistently since then <br><br>\n",
    "**Obeservation 3.2**: it took the movie industry 36 years to reach 200 movies released record; 10 years to reach 400 movies threshold; 7 years to reach 600 "
   ]
  },
  {
   "cell_type": "markdown",
   "metadata": {},
   "source": [
    "### Research Question 4: What are the trends of keywords over the decades?"
   ]
  },
  {
   "cell_type": "markdown",
   "metadata": {},
   "source": [
    "`Thought process`:<br> \n",
    "- I am only interested in keywords and release_year for this question\n",
    "- Create a dataframe with only keywords and release_year\n",
    "- Create a new column 'decades' that categorize each individual release_year by setting bins and using pandas.bin\n",
    "- Use split() to convert each keywords value into a list, with each keyword a list item\n",
    "- Group all keywords by decades. Each decades value relates to a list of keywords \n",
    "- get the most frequently occurred keyword and its frequency for each keywords value\n",
    "- plot a bar chart"
   ]
  },
  {
   "cell_type": "code",
   "execution_count": 44,
   "metadata": {},
   "outputs": [
    {
     "data": {
      "text/html": [
       "<div>\n",
       "<style scoped>\n",
       "    .dataframe tbody tr th:only-of-type {\n",
       "        vertical-align: middle;\n",
       "    }\n",
       "\n",
       "    .dataframe tbody tr th {\n",
       "        vertical-align: top;\n",
       "    }\n",
       "\n",
       "    .dataframe thead th {\n",
       "        text-align: right;\n",
       "    }\n",
       "</style>\n",
       "<table border=\"1\" class=\"dataframe\">\n",
       "  <thead>\n",
       "    <tr style=\"text-align: right;\">\n",
       "      <th></th>\n",
       "      <th>id</th>\n",
       "      <th>popularity</th>\n",
       "      <th>original_title</th>\n",
       "      <th>director</th>\n",
       "      <th>keywords</th>\n",
       "      <th>runtime</th>\n",
       "      <th>genres</th>\n",
       "      <th>production_companies</th>\n",
       "      <th>vote_count</th>\n",
       "      <th>vote_average</th>\n",
       "      <th>release_year</th>\n",
       "      <th>budget_adj</th>\n",
       "      <th>revenue_adj</th>\n",
       "    </tr>\n",
       "  </thead>\n",
       "  <tbody>\n",
       "    <tr>\n",
       "      <th>0</th>\n",
       "      <td>135397</td>\n",
       "      <td>32.985763</td>\n",
       "      <td>Jurassic World</td>\n",
       "      <td>Colin Trevorrow</td>\n",
       "      <td>monster|dna|tyrannosaurus rex|velociraptor|island</td>\n",
       "      <td>124</td>\n",
       "      <td>Action|Adventure|Science Fiction|Thriller</td>\n",
       "      <td>Universal Studios|Amblin Entertainment|Legenda...</td>\n",
       "      <td>5562</td>\n",
       "      <td>6.5</td>\n",
       "      <td>2015</td>\n",
       "      <td>1.379999e+08</td>\n",
       "      <td>1.392446e+09</td>\n",
       "    </tr>\n",
       "    <tr>\n",
       "      <th>1</th>\n",
       "      <td>76341</td>\n",
       "      <td>28.419936</td>\n",
       "      <td>Mad Max: Fury Road</td>\n",
       "      <td>George Miller</td>\n",
       "      <td>future|chase|post-apocalyptic|dystopia|australia</td>\n",
       "      <td>120</td>\n",
       "      <td>Action|Adventure|Science Fiction|Thriller</td>\n",
       "      <td>Village Roadshow Pictures|Kennedy Miller Produ...</td>\n",
       "      <td>6185</td>\n",
       "      <td>7.1</td>\n",
       "      <td>2015</td>\n",
       "      <td>1.379999e+08</td>\n",
       "      <td>3.481613e+08</td>\n",
       "    </tr>\n",
       "    <tr>\n",
       "      <th>2</th>\n",
       "      <td>262500</td>\n",
       "      <td>13.112507</td>\n",
       "      <td>Insurgent</td>\n",
       "      <td>Robert Schwentke</td>\n",
       "      <td>based on novel|revolution|dystopia|sequel|dyst...</td>\n",
       "      <td>119</td>\n",
       "      <td>Adventure|Science Fiction|Thriller</td>\n",
       "      <td>Summit Entertainment|Mandeville Films|Red Wago...</td>\n",
       "      <td>2480</td>\n",
       "      <td>6.3</td>\n",
       "      <td>2015</td>\n",
       "      <td>1.012000e+08</td>\n",
       "      <td>2.716190e+08</td>\n",
       "    </tr>\n",
       "    <tr>\n",
       "      <th>3</th>\n",
       "      <td>140607</td>\n",
       "      <td>11.173104</td>\n",
       "      <td>Star Wars: The Force Awakens</td>\n",
       "      <td>J.J. Abrams</td>\n",
       "      <td>android|spaceship|jedi|space opera|3d</td>\n",
       "      <td>136</td>\n",
       "      <td>Action|Adventure|Science Fiction|Fantasy</td>\n",
       "      <td>Lucasfilm|Truenorth Productions|Bad Robot</td>\n",
       "      <td>5292</td>\n",
       "      <td>7.5</td>\n",
       "      <td>2015</td>\n",
       "      <td>1.839999e+08</td>\n",
       "      <td>1.902723e+09</td>\n",
       "    </tr>\n",
       "    <tr>\n",
       "      <th>4</th>\n",
       "      <td>168259</td>\n",
       "      <td>9.335014</td>\n",
       "      <td>Furious 7</td>\n",
       "      <td>James Wan</td>\n",
       "      <td>car race|speed|revenge|suspense|car</td>\n",
       "      <td>137</td>\n",
       "      <td>Action|Crime|Thriller</td>\n",
       "      <td>Universal Pictures|Original Film|Media Rights ...</td>\n",
       "      <td>2947</td>\n",
       "      <td>7.3</td>\n",
       "      <td>2015</td>\n",
       "      <td>1.747999e+08</td>\n",
       "      <td>1.385749e+09</td>\n",
       "    </tr>\n",
       "  </tbody>\n",
       "</table>\n",
       "</div>"
      ],
      "text/plain": [
       "       id  popularity                original_title          director  \\\n",
       "0  135397   32.985763                Jurassic World   Colin Trevorrow   \n",
       "1   76341   28.419936            Mad Max: Fury Road     George Miller   \n",
       "2  262500   13.112507                     Insurgent  Robert Schwentke   \n",
       "3  140607   11.173104  Star Wars: The Force Awakens       J.J. Abrams   \n",
       "4  168259    9.335014                     Furious 7         James Wan   \n",
       "\n",
       "                                            keywords  runtime  \\\n",
       "0  monster|dna|tyrannosaurus rex|velociraptor|island      124   \n",
       "1   future|chase|post-apocalyptic|dystopia|australia      120   \n",
       "2  based on novel|revolution|dystopia|sequel|dyst...      119   \n",
       "3              android|spaceship|jedi|space opera|3d      136   \n",
       "4                car race|speed|revenge|suspense|car      137   \n",
       "\n",
       "                                      genres  \\\n",
       "0  Action|Adventure|Science Fiction|Thriller   \n",
       "1  Action|Adventure|Science Fiction|Thriller   \n",
       "2         Adventure|Science Fiction|Thriller   \n",
       "3   Action|Adventure|Science Fiction|Fantasy   \n",
       "4                      Action|Crime|Thriller   \n",
       "\n",
       "                                production_companies  vote_count  \\\n",
       "0  Universal Studios|Amblin Entertainment|Legenda...        5562   \n",
       "1  Village Roadshow Pictures|Kennedy Miller Produ...        6185   \n",
       "2  Summit Entertainment|Mandeville Films|Red Wago...        2480   \n",
       "3          Lucasfilm|Truenorth Productions|Bad Robot        5292   \n",
       "4  Universal Pictures|Original Film|Media Rights ...        2947   \n",
       "\n",
       "   vote_average release_year    budget_adj   revenue_adj  \n",
       "0           6.5         2015  1.379999e+08  1.392446e+09  \n",
       "1           7.1         2015  1.379999e+08  3.481613e+08  \n",
       "2           6.3         2015  1.012000e+08  2.716190e+08  \n",
       "3           7.5         2015  1.839999e+08  1.902723e+09  \n",
       "4           7.3         2015  1.747999e+08  1.385749e+09  "
      ]
     },
     "execution_count": 44,
     "metadata": {},
     "output_type": "execute_result"
    }
   ],
   "source": [
    "df_clean.head()"
   ]
  },
  {
   "cell_type": "code",
   "execution_count": 45,
   "metadata": {},
   "outputs": [
    {
     "data": {
      "text/html": [
       "<div>\n",
       "<style scoped>\n",
       "    .dataframe tbody tr th:only-of-type {\n",
       "        vertical-align: middle;\n",
       "    }\n",
       "\n",
       "    .dataframe tbody tr th {\n",
       "        vertical-align: top;\n",
       "    }\n",
       "\n",
       "    .dataframe thead th {\n",
       "        text-align: right;\n",
       "    }\n",
       "</style>\n",
       "<table border=\"1\" class=\"dataframe\">\n",
       "  <thead>\n",
       "    <tr style=\"text-align: right;\">\n",
       "      <th></th>\n",
       "      <th>keywords</th>\n",
       "      <th>release_year</th>\n",
       "    </tr>\n",
       "  </thead>\n",
       "  <tbody>\n",
       "    <tr>\n",
       "      <th>0</th>\n",
       "      <td>monster|dna|tyrannosaurus rex|velociraptor|island</td>\n",
       "      <td>2015</td>\n",
       "    </tr>\n",
       "    <tr>\n",
       "      <th>1</th>\n",
       "      <td>future|chase|post-apocalyptic|dystopia|australia</td>\n",
       "      <td>2015</td>\n",
       "    </tr>\n",
       "    <tr>\n",
       "      <th>2</th>\n",
       "      <td>based on novel|revolution|dystopia|sequel|dyst...</td>\n",
       "      <td>2015</td>\n",
       "    </tr>\n",
       "  </tbody>\n",
       "</table>\n",
       "</div>"
      ],
      "text/plain": [
       "                                            keywords release_year\n",
       "0  monster|dna|tyrannosaurus rex|velociraptor|island         2015\n",
       "1   future|chase|post-apocalyptic|dystopia|australia         2015\n",
       "2  based on novel|revolution|dystopia|sequel|dyst...         2015"
      ]
     },
     "execution_count": 45,
     "metadata": {},
     "output_type": "execute_result"
    }
   ],
   "source": [
    "# create a new dataframe df_keywords with keywords and release_year\n",
    "df_keywords = df_clean[['keywords', 'release_year']]\n",
    "# see the first 3 lines of df_keywords \n",
    "df_keywords.head(3)"
   ]
  },
  {
   "cell_type": "code",
   "execution_count": 46,
   "metadata": {},
   "outputs": [
    {
     "name": "stdout",
     "output_type": "stream",
     "text": [
      "<class 'pandas.core.frame.DataFrame'>\n",
      "Int64Index: 10772 entries, 0 to 10865\n",
      "Data columns (total 2 columns):\n",
      "keywords        9338 non-null object\n",
      "release_year    10772 non-null object\n",
      "dtypes: object(2)\n",
      "memory usage: 252.5+ KB\n"
     ]
    }
   ],
   "source": [
    "# get a summary of df_keywords\n",
    "df_keywords.info()"
   ]
  },
  {
   "cell_type": "code",
   "execution_count": 47,
   "metadata": {},
   "outputs": [
    {
     "name": "stderr",
     "output_type": "stream",
     "text": [
      "/opt/conda/lib/python3.6/site-packages/ipykernel_launcher.py:2: SettingWithCopyWarning: \n",
      "A value is trying to be set on a copy of a slice from a DataFrame\n",
      "\n",
      "See the caveats in the documentation: http://pandas.pydata.org/pandas-docs/stable/indexing.html#indexing-view-versus-copy\n",
      "  \n"
     ]
    }
   ],
   "source": [
    "# drop null values from keywords \n",
    "df_keywords.dropna(inplace = True)"
   ]
  },
  {
   "cell_type": "code",
   "execution_count": 48,
   "metadata": {},
   "outputs": [
    {
     "name": "stdout",
     "output_type": "stream",
     "text": [
      "<class 'pandas.core.frame.DataFrame'>\n",
      "Int64Index: 9338 entries, 0 to 10865\n",
      "Data columns (total 2 columns):\n",
      "keywords        9338 non-null object\n",
      "release_year    9338 non-null object\n",
      "dtypes: object(2)\n",
      "memory usage: 218.9+ KB\n"
     ]
    }
   ],
   "source": [
    "# verify the drop\n",
    "df_keywords.info()"
   ]
  },
  {
   "cell_type": "code",
   "execution_count": 49,
   "metadata": {},
   "outputs": [
    {
     "data": {
      "text/plain": [
       "str"
      ]
     },
     "execution_count": 49,
     "metadata": {},
     "output_type": "execute_result"
    }
   ],
   "source": [
    "# check data type in 'release_year' column\n",
    "type(df_keywords.release_year[0])"
   ]
  },
  {
   "cell_type": "code",
   "execution_count": 50,
   "metadata": {},
   "outputs": [
    {
     "name": "stderr",
     "output_type": "stream",
     "text": [
      "/opt/conda/lib/python3.6/site-packages/pandas/core/generic.py:4405: SettingWithCopyWarning: \n",
      "A value is trying to be set on a copy of a slice from a DataFrame.\n",
      "Try using .loc[row_indexer,col_indexer] = value instead\n",
      "\n",
      "See the caveats in the documentation: http://pandas.pydata.org/pandas-docs/stable/indexing.html#indexing-view-versus-copy\n",
      "  self[name] = value\n"
     ]
    }
   ],
   "source": [
    "# to use pandas.bin, need to convert release_year from string to interger\n",
    "df_keywords.release_year = df_keywords.release_year.astype(int)"
   ]
  },
  {
   "cell_type": "code",
   "execution_count": 51,
   "metadata": {},
   "outputs": [
    {
     "data": {
      "text/plain": [
       "numpy.int64"
      ]
     },
     "execution_count": 51,
     "metadata": {},
     "output_type": "execute_result"
    }
   ],
   "source": [
    "# check the datatype after the change\n",
    "type(df_keywords.release_year[0])"
   ]
  },
  {
   "cell_type": "code",
   "execution_count": 52,
   "metadata": {},
   "outputs": [
    {
     "name": "stdout",
     "output_type": "stream",
     "text": [
      "1960 2015\n"
     ]
    }
   ],
   "source": [
    "# check the min and max values of 'release_year'\n",
    "min = df_keywords.release_year.min()\n",
    "max = df_keywords.release_year.max()\n",
    "print(min, max)"
   ]
  },
  {
   "cell_type": "code",
   "execution_count": 53,
   "metadata": {},
   "outputs": [
    {
     "name": "stderr",
     "output_type": "stream",
     "text": [
      "/opt/conda/lib/python3.6/site-packages/ipykernel_launcher.py:7: SettingWithCopyWarning: \n",
      "A value is trying to be set on a copy of a slice from a DataFrame.\n",
      "Try using .loc[row_indexer,col_indexer] = value instead\n",
      "\n",
      "See the caveats in the documentation: http://pandas.pydata.org/pandas-docs/stable/indexing.html#indexing-view-versus-copy\n",
      "  import sys\n"
     ]
    }
   ],
   "source": [
    "# set bin edges that will be used to cut 'release_year' data into groups\n",
    "bin_edges = [1960, 1970, 1980, 1990, 2000, 2010, 2020]\n",
    "# set bin labels for the 6 decades\n",
    "bin_labels = ['1960s','1970s', '1980s', '1990s', '2000s', '2010s']\n",
    "# create a categorical variable 'decades'\n",
    "df_keywords['decades'] = pd.cut(df_keywords.release_year, bin_edges, \n",
    "                                right = False, labels = bin_labels)"
   ]
  },
  {
   "cell_type": "code",
   "execution_count": 54,
   "metadata": {},
   "outputs": [
    {
     "data": {
      "text/html": [
       "<div>\n",
       "<style scoped>\n",
       "    .dataframe tbody tr th:only-of-type {\n",
       "        vertical-align: middle;\n",
       "    }\n",
       "\n",
       "    .dataframe tbody tr th {\n",
       "        vertical-align: top;\n",
       "    }\n",
       "\n",
       "    .dataframe thead th {\n",
       "        text-align: right;\n",
       "    }\n",
       "</style>\n",
       "<table border=\"1\" class=\"dataframe\">\n",
       "  <thead>\n",
       "    <tr style=\"text-align: right;\">\n",
       "      <th></th>\n",
       "      <th>keywords</th>\n",
       "      <th>release_year</th>\n",
       "      <th>decades</th>\n",
       "    </tr>\n",
       "  </thead>\n",
       "  <tbody>\n",
       "    <tr>\n",
       "      <th>0</th>\n",
       "      <td>monster|dna|tyrannosaurus rex|velociraptor|island</td>\n",
       "      <td>2015</td>\n",
       "      <td>2010s</td>\n",
       "    </tr>\n",
       "    <tr>\n",
       "      <th>1</th>\n",
       "      <td>future|chase|post-apocalyptic|dystopia|australia</td>\n",
       "      <td>2015</td>\n",
       "      <td>2010s</td>\n",
       "    </tr>\n",
       "    <tr>\n",
       "      <th>2</th>\n",
       "      <td>based on novel|revolution|dystopia|sequel|dyst...</td>\n",
       "      <td>2015</td>\n",
       "      <td>2010s</td>\n",
       "    </tr>\n",
       "  </tbody>\n",
       "</table>\n",
       "</div>"
      ],
      "text/plain": [
       "                                            keywords  release_year decades\n",
       "0  monster|dna|tyrannosaurus rex|velociraptor|island          2015   2010s\n",
       "1   future|chase|post-apocalyptic|dystopia|australia          2015   2010s\n",
       "2  based on novel|revolution|dystopia|sequel|dyst...          2015   2010s"
      ]
     },
     "execution_count": 54,
     "metadata": {},
     "output_type": "execute_result"
    }
   ],
   "source": [
    "# see the first 3 rows of df_keywords\n",
    "df_keywords.head(3)"
   ]
  },
  {
   "cell_type": "code",
   "execution_count": 55,
   "metadata": {},
   "outputs": [
    {
     "name": "stdout",
     "output_type": "stream",
     "text": [
      "<class 'pandas.core.frame.DataFrame'>\n",
      "Int64Index: 9338 entries, 0 to 10865\n",
      "Data columns (total 3 columns):\n",
      "keywords        9338 non-null object\n",
      "release_year    9338 non-null int64\n",
      "decades         9338 non-null category\n",
      "dtypes: category(1), int64(1), object(1)\n",
      "memory usage: 548.2+ KB\n"
     ]
    }
   ],
   "source": [
    "# get a summary of df_keywords\n",
    "df_keywords.info()"
   ]
  },
  {
   "cell_type": "code",
   "execution_count": 56,
   "metadata": {},
   "outputs": [
    {
     "name": "stderr",
     "output_type": "stream",
     "text": [
      "/opt/conda/lib/python3.6/site-packages/pandas/core/generic.py:4405: SettingWithCopyWarning: \n",
      "A value is trying to be set on a copy of a slice from a DataFrame.\n",
      "Try using .loc[row_indexer,col_indexer] = value instead\n",
      "\n",
      "See the caveats in the documentation: http://pandas.pydata.org/pandas-docs/stable/indexing.html#indexing-view-versus-copy\n",
      "  self[name] = value\n"
     ]
    }
   ],
   "source": [
    "# convert keywords value into a list where each keyword is a list item\n",
    "df_keywords.keywords = df_keywords.keywords.apply(lambda x: x.split('|'))"
   ]
  },
  {
   "cell_type": "code",
   "execution_count": 57,
   "metadata": {},
   "outputs": [
    {
     "data": {
      "text/html": [
       "<div>\n",
       "<style scoped>\n",
       "    .dataframe tbody tr th:only-of-type {\n",
       "        vertical-align: middle;\n",
       "    }\n",
       "\n",
       "    .dataframe tbody tr th {\n",
       "        vertical-align: top;\n",
       "    }\n",
       "\n",
       "    .dataframe thead th {\n",
       "        text-align: right;\n",
       "    }\n",
       "</style>\n",
       "<table border=\"1\" class=\"dataframe\">\n",
       "  <thead>\n",
       "    <tr style=\"text-align: right;\">\n",
       "      <th></th>\n",
       "      <th>keywords</th>\n",
       "      <th>release_year</th>\n",
       "      <th>decades</th>\n",
       "    </tr>\n",
       "  </thead>\n",
       "  <tbody>\n",
       "    <tr>\n",
       "      <th>0</th>\n",
       "      <td>[monster, dna, tyrannosaurus rex, velociraptor...</td>\n",
       "      <td>2015</td>\n",
       "      <td>2010s</td>\n",
       "    </tr>\n",
       "    <tr>\n",
       "      <th>1</th>\n",
       "      <td>[future, chase, post-apocalyptic, dystopia, au...</td>\n",
       "      <td>2015</td>\n",
       "      <td>2010s</td>\n",
       "    </tr>\n",
       "    <tr>\n",
       "      <th>2</th>\n",
       "      <td>[based on novel, revolution, dystopia, sequel,...</td>\n",
       "      <td>2015</td>\n",
       "      <td>2010s</td>\n",
       "    </tr>\n",
       "  </tbody>\n",
       "</table>\n",
       "</div>"
      ],
      "text/plain": [
       "                                            keywords  release_year decades\n",
       "0  [monster, dna, tyrannosaurus rex, velociraptor...          2015   2010s\n",
       "1  [future, chase, post-apocalyptic, dystopia, au...          2015   2010s\n",
       "2  [based on novel, revolution, dystopia, sequel,...          2015   2010s"
      ]
     },
     "execution_count": 57,
     "metadata": {},
     "output_type": "execute_result"
    }
   ],
   "source": [
    "# get the first 3 rows \n",
    "df_keywords.head(3)"
   ]
  },
  {
   "cell_type": "code",
   "execution_count": 58,
   "metadata": {},
   "outputs": [
    {
     "name": "stderr",
     "output_type": "stream",
     "text": [
      "/opt/conda/lib/python3.6/site-packages/pandas/core/frame.py:3697: SettingWithCopyWarning: \n",
      "A value is trying to be set on a copy of a slice from a DataFrame\n",
      "\n",
      "See the caveats in the documentation: http://pandas.pydata.org/pandas-docs/stable/indexing.html#indexing-view-versus-copy\n",
      "  errors=errors)\n"
     ]
    }
   ],
   "source": [
    "# drop release_year given I will only use keywords and decades for analysis\n",
    "df_keywords.drop(columns = 'release_year', inplace = True)"
   ]
  },
  {
   "cell_type": "code",
   "execution_count": 59,
   "metadata": {},
   "outputs": [
    {
     "name": "stdout",
     "output_type": "stream",
     "text": [
      "<class 'pandas.core.frame.DataFrame'>\n",
      "Int64Index: 9338 entries, 0 to 10865\n",
      "Data columns (total 2 columns):\n",
      "keywords    9338 non-null object\n",
      "decades     9338 non-null category\n",
      "dtypes: category(1), object(1)\n",
      "memory usage: 475.2+ KB\n"
     ]
    }
   ],
   "source": [
    "# verify the drop\n",
    "df_keywords.info()"
   ]
  },
  {
   "cell_type": "code",
   "execution_count": 60,
   "metadata": {},
   "outputs": [],
   "source": [
    "# group all the keywords by decades\n",
    "df_keywords = df_keywords.groupby('decades', as_index=False).sum()"
   ]
  },
  {
   "cell_type": "code",
   "execution_count": 61,
   "metadata": {},
   "outputs": [
    {
     "data": {
      "text/html": [
       "<div>\n",
       "<style scoped>\n",
       "    .dataframe tbody tr th:only-of-type {\n",
       "        vertical-align: middle;\n",
       "    }\n",
       "\n",
       "    .dataframe tbody tr th {\n",
       "        vertical-align: top;\n",
       "    }\n",
       "\n",
       "    .dataframe thead th {\n",
       "        text-align: right;\n",
       "    }\n",
       "</style>\n",
       "<table border=\"1\" class=\"dataframe\">\n",
       "  <thead>\n",
       "    <tr style=\"text-align: right;\">\n",
       "      <th></th>\n",
       "      <th>decades</th>\n",
       "      <th>keywords</th>\n",
       "    </tr>\n",
       "  </thead>\n",
       "  <tbody>\n",
       "    <tr>\n",
       "      <th>0</th>\n",
       "      <td>1960s</td>\n",
       "      <td>[moon, jupiter, artificial intelligence, man v...</td>\n",
       "    </tr>\n",
       "    <tr>\n",
       "      <th>1</th>\n",
       "      <td>1970s</td>\n",
       "      <td>[android, galaxy, hermit, death star, lightsab...</td>\n",
       "    </tr>\n",
       "    <tr>\n",
       "      <th>2</th>\n",
       "      <td>1980s</td>\n",
       "      <td>[clock tower, car race, terrorist, delorean, l...</td>\n",
       "    </tr>\n",
       "    <tr>\n",
       "      <th>3</th>\n",
       "      <td>1990s</td>\n",
       "      <td>[support group, dual identity, nihilism, rage ...</td>\n",
       "    </tr>\n",
       "    <tr>\n",
       "      <th>4</th>\n",
       "      <td>2000s</td>\n",
       "      <td>[culture clash, future, space war, space colon...</td>\n",
       "    </tr>\n",
       "    <tr>\n",
       "      <th>5</th>\n",
       "      <td>2010s</td>\n",
       "      <td>[monster, dna, tyrannosaurus rex, velociraptor...</td>\n",
       "    </tr>\n",
       "  </tbody>\n",
       "</table>\n",
       "</div>"
      ],
      "text/plain": [
       "  decades                                           keywords\n",
       "0   1960s  [moon, jupiter, artificial intelligence, man v...\n",
       "1   1970s  [android, galaxy, hermit, death star, lightsab...\n",
       "2   1980s  [clock tower, car race, terrorist, delorean, l...\n",
       "3   1990s  [support group, dual identity, nihilism, rage ...\n",
       "4   2000s  [culture clash, future, space war, space colon...\n",
       "5   2010s  [monster, dna, tyrannosaurus rex, velociraptor..."
      ]
     },
     "execution_count": 61,
     "metadata": {},
     "output_type": "execute_result"
    }
   ],
   "source": [
    "# check the dataframe\n",
    "df_keywords"
   ]
  },
  {
   "cell_type": "code",
   "execution_count": 62,
   "metadata": {},
   "outputs": [],
   "source": [
    "# get the most frequent keyword and its frequency for each keywords value\n",
    "# and store them in two new columns\n",
    "from collections import Counter\n",
    "df_keywords['top_keyword'] = df_keywords.keywords.apply(lambda x: Counter(x).most_common(1)[0][0])\n",
    "df_keywords['frequencies'] = df_keywords.keywords.apply(lambda x: Counter(x).most_common(1)[0][1])"
   ]
  },
  {
   "cell_type": "code",
   "execution_count": 63,
   "metadata": {},
   "outputs": [
    {
     "data": {
      "text/html": [
       "<div>\n",
       "<style scoped>\n",
       "    .dataframe tbody tr th:only-of-type {\n",
       "        vertical-align: middle;\n",
       "    }\n",
       "\n",
       "    .dataframe tbody tr th {\n",
       "        vertical-align: top;\n",
       "    }\n",
       "\n",
       "    .dataframe thead th {\n",
       "        text-align: right;\n",
       "    }\n",
       "</style>\n",
       "<table border=\"1\" class=\"dataframe\">\n",
       "  <thead>\n",
       "    <tr style=\"text-align: right;\">\n",
       "      <th></th>\n",
       "      <th>decades</th>\n",
       "      <th>keywords</th>\n",
       "      <th>top_keyword</th>\n",
       "      <th>frequencies</th>\n",
       "    </tr>\n",
       "  </thead>\n",
       "  <tbody>\n",
       "    <tr>\n",
       "      <th>0</th>\n",
       "      <td>1960s</td>\n",
       "      <td>[moon, jupiter, artificial intelligence, man v...</td>\n",
       "      <td>based on novel</td>\n",
       "      <td>16</td>\n",
       "    </tr>\n",
       "    <tr>\n",
       "      <th>1</th>\n",
       "      <td>1970s</td>\n",
       "      <td>[android, galaxy, hermit, death star, lightsab...</td>\n",
       "      <td>based on novel</td>\n",
       "      <td>23</td>\n",
       "    </tr>\n",
       "    <tr>\n",
       "      <th>2</th>\n",
       "      <td>1980s</td>\n",
       "      <td>[clock tower, car race, terrorist, delorean, l...</td>\n",
       "      <td>nudity</td>\n",
       "      <td>39</td>\n",
       "    </tr>\n",
       "    <tr>\n",
       "      <th>3</th>\n",
       "      <td>1990s</td>\n",
       "      <td>[support group, dual identity, nihilism, rage ...</td>\n",
       "      <td>independent film</td>\n",
       "      <td>80</td>\n",
       "    </tr>\n",
       "    <tr>\n",
       "      <th>4</th>\n",
       "      <td>2000s</td>\n",
       "      <td>[culture clash, future, space war, space colon...</td>\n",
       "      <td>independent film</td>\n",
       "      <td>215</td>\n",
       "    </tr>\n",
       "    <tr>\n",
       "      <th>5</th>\n",
       "      <td>2010s</td>\n",
       "      <td>[monster, dna, tyrannosaurus rex, velociraptor...</td>\n",
       "      <td>woman director</td>\n",
       "      <td>231</td>\n",
       "    </tr>\n",
       "  </tbody>\n",
       "</table>\n",
       "</div>"
      ],
      "text/plain": [
       "  decades                                           keywords  \\\n",
       "0   1960s  [moon, jupiter, artificial intelligence, man v...   \n",
       "1   1970s  [android, galaxy, hermit, death star, lightsab...   \n",
       "2   1980s  [clock tower, car race, terrorist, delorean, l...   \n",
       "3   1990s  [support group, dual identity, nihilism, rage ...   \n",
       "4   2000s  [culture clash, future, space war, space colon...   \n",
       "5   2010s  [monster, dna, tyrannosaurus rex, velociraptor...   \n",
       "\n",
       "        top_keyword  frequencies  \n",
       "0    based on novel           16  \n",
       "1    based on novel           23  \n",
       "2            nudity           39  \n",
       "3  independent film           80  \n",
       "4  independent film          215  \n",
       "5    woman director          231  "
      ]
     },
     "execution_count": 63,
     "metadata": {},
     "output_type": "execute_result"
    }
   ],
   "source": [
    "# check the dataframe\n",
    "df_keywords"
   ]
  },
  {
   "cell_type": "code",
   "execution_count": 64,
   "metadata": {},
   "outputs": [],
   "source": [
    "# get decades values\n",
    "decades = df_keywords.decades\n",
    "# get all top_keywords values\n",
    "top_keywords = df_keywords.top_keyword\n",
    "# get frequencies values\n",
    "frequencies = df_keywords.frequencies"
   ]
  },
  {
   "cell_type": "code",
   "execution_count": 65,
   "metadata": {},
   "outputs": [
    {
     "data": {
      "text/plain": [
       "Text(0.5,1,'Top Keyword Trends From 1960s to 2010s')"
      ]
     },
     "execution_count": 65,
     "metadata": {},
     "output_type": "execute_result"
    },
    {
     "data": {
      "image/png": "[encoded data removed]",
      "text/plain": [
       "<matplotlib.figure.Figure at 0x7faadb701160>"
      ]
     },
     "metadata": {
      "needs_background": "light"
     },
     "output_type": "display_data"
    }
   ],
   "source": [
    "# plot a bar chart\n",
    "plt.figure(figsize=(25,10))\n",
    "plt.barh(decades, frequencies, color = 'b', alpha = 0.4)\n",
    "\n",
    "# add top_keywords as labels \n",
    "for x,y,z in zip(frequencies, decades, top_keywords):\n",
    "    plt.text(x, y, '{} '.format(z), fontsize = 18,  fontweight = 'bold',\n",
    "             horizontalalignment = 'center')\n",
    "\n",
    "# customize ticks, labels, and title\n",
    "plt.xticks(fontsize = 16)\n",
    "plt.yticks(fontsize = 16)\n",
    "plt.xlabel('Top Keyword Occurrence', fontweight = 'bold', fontsize = 18, labelpad = 20)\n",
    "plt.ylabel('Decade', fontweight = 'bold', fontsize = 18, labelpad = 20)\n",
    "plt.title('Top Keyword Trends From 1960s to 2010s', fontweight = 'bold', fontsize = 30)"
   ]
  },
  {
   "cell_type": "markdown",
   "metadata": {},
   "source": [
    "**Observation 4**: There are interesting trends over the decades <br><br>\n",
    "**Obeservation 4.1**: Keyword `based on novel` went strong from 1960s to 1970s. As [The History of Film-The 1960s](https://www.filmsite.org/60sintro4.html) mentions:\n",
    "> During the early to mid 1960s, Hollywood looked to literary works and the history books for many of its films. The studios were increasingly willing to pay for film rights to various novels and literary works. <br>\n",
    "\n",
    "**Obeservation 4.2**: Keyword `nudity` dominated 1980s movies. The book [A History of Movie Ratings](https://books.google.com/books?id=shlRAgAAQBAJ&pg=PT39&lpg=PT39&dq=1980s+movies+many+nudity+why+rating&source=bl&ots=AbfLKSfFZW&sig=ACfU3U3JMWRP2cHOkwwmT5lp8v7nBT2rYw&hl=en&sa=X&ved=2ahUKEwjjxeKo667lAhWGq54KHeWXDBgQ6AEwEHoECAgQAQ#v=onepage&q=1980s%20movies%20many%20nudity%20why%20rating&f=false) writes:\n",
    "> But it wasn't until the early 1980s that Hollywood mainstream movies really began to push the R rating as far as possible with violence and gore, sex and nudity, and foul language\n",
    "\n",
    "> And excessive sex and nudity became more and more commonplace\n",
    "\n",
    "> Sex and nudity also overtook a genre of R-rated moes about and aimed at teenagers\n",
    "\n",
    "**Obeservation 4.3**: Keyword `independent film` stood out from 1990s to 2000s. As [The History of Film-The 1990s](https://www.filmsite.org/90sintro.html) mentions:\n",
    "> By the end of the decade, most studios had formed independent film divisions (such as Fox's Searchlight division) that would make films with artistic, edgy, or 'serious' social issues or themes, and without major Hollywood stars.\n",
    "\n",
    "Apparently, the trend of indie movies continued and went even stronger in 2000s.<br>\n",
    "\n",
    "**Obeservation 4.4**: Keyword `woman director` prevails in 2010s. It's great to see more females wearing director hat than ever before entering 2010s in this male-dominated movie industry. "
   ]
  },
  {
   "cell_type": "markdown",
   "metadata": {},
   "source": [
    "### Research Question 5: Do horror films receive worse rating compared to non-horror films over the years?"
   ]
  },
  {
   "cell_type": "markdown",
   "metadata": {},
   "source": [
    "\"I see dead people.\" <br>\n",
    "— The Sixth Sense\n",
    "<br><br>\n",
    "Horror films have been delievering great enjoyment for me. Though a huge fan of horror films myself, it's hard to deny that horror films are an inferior genre compared with others in box office, quality of the movie, social impact, storytelling, the depth of star-studded lineup, award nomination and more. Horror films also give people the impression of poor audience reviews and ratings. <br><br>\n",
    "Time to compare the average rating of horror films with that of non-horror films and let the data tells the story."
   ]
  },
  {
   "cell_type": "code",
   "execution_count": 66,
   "metadata": {},
   "outputs": [
    {
     "data": {
      "text/html": [
       "<div>\n",
       "<style scoped>\n",
       "    .dataframe tbody tr th:only-of-type {\n",
       "        vertical-align: middle;\n",
       "    }\n",
       "\n",
       "    .dataframe tbody tr th {\n",
       "        vertical-align: top;\n",
       "    }\n",
       "\n",
       "    .dataframe thead th {\n",
       "        text-align: right;\n",
       "    }\n",
       "</style>\n",
       "<table border=\"1\" class=\"dataframe\">\n",
       "  <thead>\n",
       "    <tr style=\"text-align: right;\">\n",
       "      <th></th>\n",
       "      <th>popularity</th>\n",
       "      <th>runtime</th>\n",
       "      <th>vote_count</th>\n",
       "      <th>vote_average</th>\n",
       "      <th>budget_adj</th>\n",
       "      <th>revenue_adj</th>\n",
       "    </tr>\n",
       "  </thead>\n",
       "  <tbody>\n",
       "    <tr>\n",
       "      <th>count</th>\n",
       "      <td>10772.000000</td>\n",
       "      <td>10772.000000</td>\n",
       "      <td>10772.000000</td>\n",
       "      <td>10772.000000</td>\n",
       "      <td>5.161000e+03</td>\n",
       "      <td>4.848000e+03</td>\n",
       "    </tr>\n",
       "    <tr>\n",
       "      <th>mean</th>\n",
       "      <td>0.650643</td>\n",
       "      <td>102.455347</td>\n",
       "      <td>219.114463</td>\n",
       "      <td>5.972289</td>\n",
       "      <td>3.694143e+07</td>\n",
       "      <td>1.151223e+08</td>\n",
       "    </tr>\n",
       "    <tr>\n",
       "      <th>std</th>\n",
       "      <td>1.003319</td>\n",
       "      <td>30.379156</td>\n",
       "      <td>577.826118</td>\n",
       "      <td>0.932877</td>\n",
       "      <td>4.197228e+07</td>\n",
       "      <td>1.988706e+08</td>\n",
       "    </tr>\n",
       "    <tr>\n",
       "      <th>min</th>\n",
       "      <td>0.000188</td>\n",
       "      <td>2.000000</td>\n",
       "      <td>10.000000</td>\n",
       "      <td>1.500000</td>\n",
       "      <td>9.210911e-01</td>\n",
       "      <td>2.370705e+00</td>\n",
       "    </tr>\n",
       "    <tr>\n",
       "      <th>25%</th>\n",
       "      <td>0.209987</td>\n",
       "      <td>90.000000</td>\n",
       "      <td>17.000000</td>\n",
       "      <td>5.400000</td>\n",
       "      <td>8.131203e+06</td>\n",
       "      <td>1.046477e+07</td>\n",
       "    </tr>\n",
       "    <tr>\n",
       "      <th>50%</th>\n",
       "      <td>0.386176</td>\n",
       "      <td>99.000000</td>\n",
       "      <td>39.000000</td>\n",
       "      <td>6.000000</td>\n",
       "      <td>2.278180e+07</td>\n",
       "      <td>4.396405e+07</td>\n",
       "    </tr>\n",
       "    <tr>\n",
       "      <th>75%</th>\n",
       "      <td>0.718889</td>\n",
       "      <td>112.000000</td>\n",
       "      <td>147.000000</td>\n",
       "      <td>6.600000</td>\n",
       "      <td>5.008384e+07</td>\n",
       "      <td>1.316524e+08</td>\n",
       "    </tr>\n",
       "    <tr>\n",
       "      <th>max</th>\n",
       "      <td>32.985763</td>\n",
       "      <td>900.000000</td>\n",
       "      <td>9767.000000</td>\n",
       "      <td>9.200000</td>\n",
       "      <td>4.250000e+08</td>\n",
       "      <td>2.827124e+09</td>\n",
       "    </tr>\n",
       "  </tbody>\n",
       "</table>\n",
       "</div>"
      ],
      "text/plain": [
       "         popularity       runtime    vote_count  vote_average    budget_adj  \\\n",
       "count  10772.000000  10772.000000  10772.000000  10772.000000  5.161000e+03   \n",
       "mean       0.650643    102.455347    219.114463      5.972289  3.694143e+07   \n",
       "std        1.003319     30.379156    577.826118      0.932877  4.197228e+07   \n",
       "min        0.000188      2.000000     10.000000      1.500000  9.210911e-01   \n",
       "25%        0.209987     90.000000     17.000000      5.400000  8.131203e+06   \n",
       "50%        0.386176     99.000000     39.000000      6.000000  2.278180e+07   \n",
       "75%        0.718889    112.000000    147.000000      6.600000  5.008384e+07   \n",
       "max       32.985763    900.000000   9767.000000      9.200000  4.250000e+08   \n",
       "\n",
       "        revenue_adj  \n",
       "count  4.848000e+03  \n",
       "mean   1.151223e+08  \n",
       "std    1.988706e+08  \n",
       "min    2.370705e+00  \n",
       "25%    1.046477e+07  \n",
       "50%    4.396405e+07  \n",
       "75%    1.316524e+08  \n",
       "max    2.827124e+09  "
      ]
     },
     "execution_count": 66,
     "metadata": {},
     "output_type": "execute_result"
    }
   ],
   "source": [
    "# get the descriptive statistics summary of df_clean\n",
    "df_clean.describe()"
   ]
  },
  {
   "cell_type": "markdown",
   "metadata": {},
   "source": [
    "`Reasoning`: <br>\n",
    "from the descriptive statistics summary, vote_average has a low of 1.5 and high of 9.2 with a mean of 5.97. <br>\n",
    "The voting system seems to be within a scale of 1 to 10, and can be treated as equivalent to the common movie rating of 1 to 10."
   ]
  },
  {
   "cell_type": "markdown",
   "metadata": {},
   "source": [
    "`Thought process`:<br> \n",
    "- Create a dataframe with id, genres, vote_average, release_year\n",
    "- Create a new column 'decades' that categorize each individual release_year by setting bins and using pandas.bin\n",
    "- Use split() to convert each genres value into a list with each genre a list item\n",
    "- Create a new column that holds `True` if horror is in genres and `False` otherwise\n",
    "- get the vote_average values for both horror films and non-horror films by decades\n",
    "- get the difference of vote_average by decades\n",
    "- plot a bar chart"
   ]
  },
  {
   "cell_type": "code",
   "execution_count": 67,
   "metadata": {},
   "outputs": [],
   "source": [
    "# create a dataframe with id, genres, vote_average, release_year\n",
    "df_genres = df_clean[['id','genres','vote_average','release_year']]"
   ]
  },
  {
   "cell_type": "code",
   "execution_count": 68,
   "metadata": {},
   "outputs": [
    {
     "name": "stdout",
     "output_type": "stream",
     "text": [
      "<class 'pandas.core.frame.DataFrame'>\n",
      "Int64Index: 10772 entries, 0 to 10865\n",
      "Data columns (total 4 columns):\n",
      "id              10772 non-null object\n",
      "genres          10772 non-null object\n",
      "vote_average    10772 non-null float64\n",
      "release_year    10772 non-null object\n",
      "dtypes: float64(1), object(3)\n",
      "memory usage: 420.8+ KB\n"
     ]
    }
   ],
   "source": [
    "# check the dataframe\n",
    "df_genres.info()"
   ]
  },
  {
   "cell_type": "code",
   "execution_count": 69,
   "metadata": {},
   "outputs": [
    {
     "name": "stderr",
     "output_type": "stream",
     "text": [
      "/opt/conda/lib/python3.6/site-packages/pandas/core/generic.py:4405: SettingWithCopyWarning: \n",
      "A value is trying to be set on a copy of a slice from a DataFrame.\n",
      "Try using .loc[row_indexer,col_indexer] = value instead\n",
      "\n",
      "See the caveats in the documentation: http://pandas.pydata.org/pandas-docs/stable/indexing.html#indexing-view-versus-copy\n",
      "  self[name] = value\n"
     ]
    }
   ],
   "source": [
    "# release_year is an object type\n",
    "# to use pandas.bin, need to convert release_year to interger\n",
    "df_genres.release_year = df_genres.release_year.astype(int)"
   ]
  },
  {
   "cell_type": "code",
   "execution_count": 70,
   "metadata": {},
   "outputs": [
    {
     "name": "stderr",
     "output_type": "stream",
     "text": [
      "/opt/conda/lib/python3.6/site-packages/ipykernel_launcher.py:7: SettingWithCopyWarning: \n",
      "A value is trying to be set on a copy of a slice from a DataFrame.\n",
      "Try using .loc[row_indexer,col_indexer] = value instead\n",
      "\n",
      "See the caveats in the documentation: http://pandas.pydata.org/pandas-docs/stable/indexing.html#indexing-view-versus-copy\n",
      "  import sys\n"
     ]
    }
   ],
   "source": [
    "# set bin edges that will be used to cut 'release_year' data into groups\n",
    "bin_edges = [1960, 1970, 1980, 1990, 2000, 2010, 2020]\n",
    "# set bin labels for the 6 decades\n",
    "bin_labels = ['1960s','1970s', '1980s', '1990s', '2000s', '2010s']\n",
    "# create a categorical variable 'decades'\n",
    "df_genres['decades'] = pd.cut(df_genres.release_year, bin_edges, \n",
    "                                right = False, labels = bin_labels)"
   ]
  },
  {
   "cell_type": "code",
   "execution_count": 71,
   "metadata": {},
   "outputs": [
    {
     "data": {
      "text/html": [
       "<div>\n",
       "<style scoped>\n",
       "    .dataframe tbody tr th:only-of-type {\n",
       "        vertical-align: middle;\n",
       "    }\n",
       "\n",
       "    .dataframe tbody tr th {\n",
       "        vertical-align: top;\n",
       "    }\n",
       "\n",
       "    .dataframe thead th {\n",
       "        text-align: right;\n",
       "    }\n",
       "</style>\n",
       "<table border=\"1\" class=\"dataframe\">\n",
       "  <thead>\n",
       "    <tr style=\"text-align: right;\">\n",
       "      <th></th>\n",
       "      <th>id</th>\n",
       "      <th>genres</th>\n",
       "      <th>vote_average</th>\n",
       "      <th>release_year</th>\n",
       "      <th>decades</th>\n",
       "    </tr>\n",
       "  </thead>\n",
       "  <tbody>\n",
       "    <tr>\n",
       "      <th>0</th>\n",
       "      <td>135397</td>\n",
       "      <td>Action|Adventure|Science Fiction|Thriller</td>\n",
       "      <td>6.5</td>\n",
       "      <td>2015</td>\n",
       "      <td>2010s</td>\n",
       "    </tr>\n",
       "    <tr>\n",
       "      <th>1</th>\n",
       "      <td>76341</td>\n",
       "      <td>Action|Adventure|Science Fiction|Thriller</td>\n",
       "      <td>7.1</td>\n",
       "      <td>2015</td>\n",
       "      <td>2010s</td>\n",
       "    </tr>\n",
       "    <tr>\n",
       "      <th>2</th>\n",
       "      <td>262500</td>\n",
       "      <td>Adventure|Science Fiction|Thriller</td>\n",
       "      <td>6.3</td>\n",
       "      <td>2015</td>\n",
       "      <td>2010s</td>\n",
       "    </tr>\n",
       "  </tbody>\n",
       "</table>\n",
       "</div>"
      ],
      "text/plain": [
       "       id                                     genres  vote_average  \\\n",
       "0  135397  Action|Adventure|Science Fiction|Thriller           6.5   \n",
       "1   76341  Action|Adventure|Science Fiction|Thriller           7.1   \n",
       "2  262500         Adventure|Science Fiction|Thriller           6.3   \n",
       "\n",
       "   release_year decades  \n",
       "0          2015   2010s  \n",
       "1          2015   2010s  \n",
       "2          2015   2010s  "
      ]
     },
     "execution_count": 71,
     "metadata": {},
     "output_type": "execute_result"
    }
   ],
   "source": [
    "# see the first 3 rows of df_genres\n",
    "df_genres.head(3)"
   ]
  },
  {
   "cell_type": "code",
   "execution_count": 72,
   "metadata": {},
   "outputs": [
    {
     "name": "stderr",
     "output_type": "stream",
     "text": [
      "/opt/conda/lib/python3.6/site-packages/pandas/core/generic.py:4405: SettingWithCopyWarning: \n",
      "A value is trying to be set on a copy of a slice from a DataFrame.\n",
      "Try using .loc[row_indexer,col_indexer] = value instead\n",
      "\n",
      "See the caveats in the documentation: http://pandas.pydata.org/pandas-docs/stable/indexing.html#indexing-view-versus-copy\n",
      "  self[name] = value\n"
     ]
    }
   ],
   "source": [
    "# convert each genres value into a list\n",
    "df_genres.genres = df_genres.genres.apply(lambda x: x.split('|'))"
   ]
  },
  {
   "cell_type": "code",
   "execution_count": 73,
   "metadata": {},
   "outputs": [
    {
     "data": {
      "text/html": [
       "<div>\n",
       "<style scoped>\n",
       "    .dataframe tbody tr th:only-of-type {\n",
       "        vertical-align: middle;\n",
       "    }\n",
       "\n",
       "    .dataframe tbody tr th {\n",
       "        vertical-align: top;\n",
       "    }\n",
       "\n",
       "    .dataframe thead th {\n",
       "        text-align: right;\n",
       "    }\n",
       "</style>\n",
       "<table border=\"1\" class=\"dataframe\">\n",
       "  <thead>\n",
       "    <tr style=\"text-align: right;\">\n",
       "      <th></th>\n",
       "      <th>id</th>\n",
       "      <th>genres</th>\n",
       "      <th>vote_average</th>\n",
       "      <th>release_year</th>\n",
       "      <th>decades</th>\n",
       "    </tr>\n",
       "  </thead>\n",
       "  <tbody>\n",
       "    <tr>\n",
       "      <th>0</th>\n",
       "      <td>135397</td>\n",
       "      <td>[Action, Adventure, Science Fiction, Thriller]</td>\n",
       "      <td>6.5</td>\n",
       "      <td>2015</td>\n",
       "      <td>2010s</td>\n",
       "    </tr>\n",
       "    <tr>\n",
       "      <th>1</th>\n",
       "      <td>76341</td>\n",
       "      <td>[Action, Adventure, Science Fiction, Thriller]</td>\n",
       "      <td>7.1</td>\n",
       "      <td>2015</td>\n",
       "      <td>2010s</td>\n",
       "    </tr>\n",
       "    <tr>\n",
       "      <th>2</th>\n",
       "      <td>262500</td>\n",
       "      <td>[Adventure, Science Fiction, Thriller]</td>\n",
       "      <td>6.3</td>\n",
       "      <td>2015</td>\n",
       "      <td>2010s</td>\n",
       "    </tr>\n",
       "  </tbody>\n",
       "</table>\n",
       "</div>"
      ],
      "text/plain": [
       "       id                                          genres  vote_average  \\\n",
       "0  135397  [Action, Adventure, Science Fiction, Thriller]           6.5   \n",
       "1   76341  [Action, Adventure, Science Fiction, Thriller]           7.1   \n",
       "2  262500          [Adventure, Science Fiction, Thriller]           6.3   \n",
       "\n",
       "   release_year decades  \n",
       "0          2015   2010s  \n",
       "1          2015   2010s  \n",
       "2          2015   2010s  "
      ]
     },
     "execution_count": 73,
     "metadata": {},
     "output_type": "execute_result"
    }
   ],
   "source": [
    "# check the change\n",
    "df_genres.head(3)"
   ]
  },
  {
   "cell_type": "code",
   "execution_count": 74,
   "metadata": {},
   "outputs": [
    {
     "name": "stderr",
     "output_type": "stream",
     "text": [
      "/opt/conda/lib/python3.6/site-packages/ipykernel_launcher.py:2: SettingWithCopyWarning: \n",
      "A value is trying to be set on a copy of a slice from a DataFrame.\n",
      "Try using .loc[row_indexer,col_indexer] = value instead\n",
      "\n",
      "See the caveats in the documentation: http://pandas.pydata.org/pandas-docs/stable/indexing.html#indexing-view-versus-copy\n",
      "  \n"
     ]
    }
   ],
   "source": [
    "# Create a boolean variable that holds `True` if horror is in genres and `False` otherwise\n",
    "df_genres['horror'] = df_genres.genres.apply(lambda x:'Horror' in x)"
   ]
  },
  {
   "cell_type": "code",
   "execution_count": 75,
   "metadata": {},
   "outputs": [
    {
     "data": {
      "text/html": [
       "<div>\n",
       "<style scoped>\n",
       "    .dataframe tbody tr th:only-of-type {\n",
       "        vertical-align: middle;\n",
       "    }\n",
       "\n",
       "    .dataframe tbody tr th {\n",
       "        vertical-align: top;\n",
       "    }\n",
       "\n",
       "    .dataframe thead th {\n",
       "        text-align: right;\n",
       "    }\n",
       "</style>\n",
       "<table border=\"1\" class=\"dataframe\">\n",
       "  <thead>\n",
       "    <tr style=\"text-align: right;\">\n",
       "      <th></th>\n",
       "      <th>id</th>\n",
       "      <th>genres</th>\n",
       "      <th>vote_average</th>\n",
       "      <th>release_year</th>\n",
       "      <th>decades</th>\n",
       "      <th>horror</th>\n",
       "    </tr>\n",
       "  </thead>\n",
       "  <tbody>\n",
       "    <tr>\n",
       "      <th>0</th>\n",
       "      <td>135397</td>\n",
       "      <td>[Action, Adventure, Science Fiction, Thriller]</td>\n",
       "      <td>6.5</td>\n",
       "      <td>2015</td>\n",
       "      <td>2010s</td>\n",
       "      <td>False</td>\n",
       "    </tr>\n",
       "    <tr>\n",
       "      <th>1</th>\n",
       "      <td>76341</td>\n",
       "      <td>[Action, Adventure, Science Fiction, Thriller]</td>\n",
       "      <td>7.1</td>\n",
       "      <td>2015</td>\n",
       "      <td>2010s</td>\n",
       "      <td>False</td>\n",
       "    </tr>\n",
       "    <tr>\n",
       "      <th>2</th>\n",
       "      <td>262500</td>\n",
       "      <td>[Adventure, Science Fiction, Thriller]</td>\n",
       "      <td>6.3</td>\n",
       "      <td>2015</td>\n",
       "      <td>2010s</td>\n",
       "      <td>False</td>\n",
       "    </tr>\n",
       "    <tr>\n",
       "      <th>3</th>\n",
       "      <td>140607</td>\n",
       "      <td>[Action, Adventure, Science Fiction, Fantasy]</td>\n",
       "      <td>7.5</td>\n",
       "      <td>2015</td>\n",
       "      <td>2010s</td>\n",
       "      <td>False</td>\n",
       "    </tr>\n",
       "    <tr>\n",
       "      <th>4</th>\n",
       "      <td>168259</td>\n",
       "      <td>[Action, Crime, Thriller]</td>\n",
       "      <td>7.3</td>\n",
       "      <td>2015</td>\n",
       "      <td>2010s</td>\n",
       "      <td>False</td>\n",
       "    </tr>\n",
       "  </tbody>\n",
       "</table>\n",
       "</div>"
      ],
      "text/plain": [
       "       id                                          genres  vote_average  \\\n",
       "0  135397  [Action, Adventure, Science Fiction, Thriller]           6.5   \n",
       "1   76341  [Action, Adventure, Science Fiction, Thriller]           7.1   \n",
       "2  262500          [Adventure, Science Fiction, Thriller]           6.3   \n",
       "3  140607   [Action, Adventure, Science Fiction, Fantasy]           7.5   \n",
       "4  168259                       [Action, Crime, Thriller]           7.3   \n",
       "\n",
       "   release_year decades  horror  \n",
       "0          2015   2010s   False  \n",
       "1          2015   2010s   False  \n",
       "2          2015   2010s   False  \n",
       "3          2015   2010s   False  \n",
       "4          2015   2010s   False  "
      ]
     },
     "execution_count": 75,
     "metadata": {},
     "output_type": "execute_result"
    }
   ],
   "source": [
    "# check the change\n",
    "df_genres.head(5)"
   ]
  },
  {
   "cell_type": "code",
   "execution_count": 76,
   "metadata": {},
   "outputs": [
    {
     "name": "stderr",
     "output_type": "stream",
     "text": [
      "/opt/conda/lib/python3.6/site-packages/ipykernel_launcher.py:2: FutureWarning: Interpreting tuple 'by' as a list of keys, rather than a single key. Use 'by=[...]' instead of 'by=(...)'. In the future, a tuple will always mean a single key.\n",
      "  \n"
     ]
    },
    {
     "data": {
      "text/plain": [
       "[-0.20611871527307724,\n",
       " -0.36036165327209879,\n",
       " -0.39798780060296046,\n",
       " -0.59059130013328254,\n",
       " -0.76218793960232212,\n",
       " -1.0579103123066007]"
      ]
     },
     "execution_count": 76,
     "metadata": {},
     "output_type": "execute_result"
    }
   ],
   "source": [
    "# group by decades and get the vote_average for horror and non-horror films\n",
    "df_q3 = df_genres.groupby(('decades', 'horror'), as_index = False)['vote_average'].mean()\n",
    "# use for loop to get the difference of vote_average for horror and non-horror films by decade\n",
    "diffs = []\n",
    "decades = df_q3.decades.unique()\n",
    "\n",
    "for x in decades:\n",
    "    vote_h = df_q3[df_q3.decades == x].query('horror == True').vote_average.values[0]\n",
    "    vote_non_h = df_q3[df_q3.decades == x].query('horror == False').vote_average.values[0]\n",
    "    diff = vote_h - vote_non_h\n",
    "    diffs.append(diff)\n",
    "diffs"
   ]
  },
  {
   "cell_type": "code",
   "execution_count": 77,
   "metadata": {},
   "outputs": [
    {
     "data": {
      "text/plain": [
       "Text(0.5,1,'Horror vs. Non-Horror Movie Average Rating Difference by Decade')"
      ]
     },
     "execution_count": 77,
     "metadata": {},
     "output_type": "execute_result"
    },
    {
     "data": {
      "image/png": "[encoded data removed]",
      "text/plain": [
       "<matplotlib.figure.Figure at 0x7faad80400f0>"
      ]
     },
     "metadata": {
      "needs_background": "light"
     },
     "output_type": "display_data"
    }
   ],
   "source": [
    "# plot a bar chart\n",
    "plt.figure(figsize=(25,10))\n",
    "plt.bar(decades, diffs, color = 'r', alpha = 0.5)\n",
    "\n",
    "# customize ticks, labels, and title  \n",
    "plt.xticks(fontsize = 16)\n",
    "plt.yticks(fontsize = 16)\n",
    "plt.xlabel('Decade', fontweight = 'bold', fontsize = 18, labelpad = 20)\n",
    "plt.ylabel('Average Rating Difference', fontweight = 'bold', fontsize = 18, labelpad = 20)\n",
    "plt.title('Horror vs. Non-Horror Movie Average Rating Difference by Decade', \n",
    "          fontweight = 'bold', fontsize = 30)"
   ]
  },
  {
   "cell_type": "markdown",
   "metadata": {},
   "source": [
    "**Observation 5.1**: The average vote of horror films has consistently been lower than that non-horror films over the decades <br>\n",
    "**Observation 5.2**: The gap has been growing as well, from around 0.2 in 1960s to over 1 point of average rating difference in 2010s <br>\n",
    "**Observation 5.3**: The expansion of such gap started to accelerate from 1990s through 2010s"
   ]
  },
  {
   "cell_type": "markdown",
   "metadata": {},
   "source": [
    "### Research Question 6: Do more and more horror films released since 1990?"
   ]
  },
  {
   "cell_type": "markdown",
   "metadata": {},
   "source": [
    "`Thought process`:<br> \n",
    "- Create a dataframe that includes only horror movie data and release_year after 1990\n",
    "- Group by release_year and get the total of horror films per year from 1990 to 2015\n",
    "- Group by release_year and get the total of films per year from 1990 to 2015\n",
    "- Compute the proportion of horror films per year\n",
    "- plot a line chart"
   ]
  },
  {
   "cell_type": "code",
   "execution_count": 78,
   "metadata": {},
   "outputs": [],
   "source": [
    "# create a dataframe includes only horror film and release_year after 1990\n",
    "df_horror = df_genres.query('release_year >= 1990 and horror == True')"
   ]
  },
  {
   "cell_type": "code",
   "execution_count": 79,
   "metadata": {},
   "outputs": [],
   "source": [
    "# get the total of horror films per year since 1990\n",
    "counts_horror = df_horror.groupby('release_year').count()['id']"
   ]
  },
  {
   "cell_type": "code",
   "execution_count": 80,
   "metadata": {},
   "outputs": [],
   "source": [
    "# get the total of films per year since 1990\n",
    "totals = df_genres.query('release_year >= 1990').groupby('release_year').count()['id']"
   ]
  },
  {
   "cell_type": "code",
   "execution_count": 81,
   "metadata": {},
   "outputs": [],
   "source": [
    "# compute the proportion of horror films in films released per year\n",
    "horror_proportion = counts_horror/totals"
   ]
  },
  {
   "cell_type": "code",
   "execution_count": 82,
   "metadata": {},
   "outputs": [],
   "source": [
    "# get the release_year data for x-axis\n",
    "release_years = horror_proportion.index\n",
    "# get the proportion values for y-axis\n",
    "proportions = horror_proportion.values"
   ]
  },
  {
   "cell_type": "code",
   "execution_count": 83,
   "metadata": {
    "scrolled": true
   },
   "outputs": [
    {
     "data": {
      "text/plain": [
       "Text(0.5,1,'Horror Films in % of All Films by Year')"
      ]
     },
     "execution_count": 83,
     "metadata": {},
     "output_type": "execute_result"
    },
    {
     "data": {
      "image/png": "[encoded data removed]",
      "text/plain": [
       "<matplotlib.figure.Figure at 0x7faad37dc2e8>"
      ]
     },
     "metadata": {
      "needs_background": "light"
     },
     "output_type": "display_data"
    }
   ],
   "source": [
    "# plot a line chart\n",
    "plt.figure(figsize=(25,10))\n",
    "plt.plot(release_years, proportions*100, color = 'g', alpha = 0.8)\n",
    "\n",
    "# customize ticks, labels, and title  \n",
    "plt.xticks(fontsize = 16)\n",
    "plt.yticks(fontsize = 16)\n",
    "plt.xlabel('Year', fontweight = 'bold', fontsize = 18, labelpad = 20)\n",
    "plt.ylabel('Horror Films in %', fontweight = 'bold', fontsize = 18, labelpad = 20)\n",
    "plt.title('Horror Films in % of All Films by Year', \n",
    "          fontweight = 'bold', fontsize = 30)"
   ]
  },
  {
   "cell_type": "markdown",
   "metadata": {},
   "source": [
    "**Observation 6.1**: Horror films dropped drastically in its percentage of all films after the year 1990 and struggled all the way till entering the second half of 2000s, with a history low in 1994, which is around 20 times lower than the percentage in 1990.<br>\n",
    "**Observation 6.2**: Entering the second half of 2000s, horror films regained its youth with a upward trend in its percentage among all films, and stayed strong in 2010s"
   ]
  },
  {
   "cell_type": "markdown",
   "metadata": {},
   "source": [
    "<a id='conclusions'></a>\n",
    "## Conclusions\n",
    "Through the steps involved in a typical data analysis process, I explored and observed trends and insights that answer the research questions I proposed.<br><br>\n",
    "### 1. Distribution of average vote\n",
    "In the distribution, big part of the average vote data falls between 5 to 7.\n",
    "<br><br>\n",
    "### 2. Distribution of movie runtime\n",
    "In the distribtution of runtime, large part of the data falls between 80 and 120 minutes. Also, there are 40 movies with more than 4 hours of runtime. The longest movie is 'The Story of Film: An Odyssey', with a total runtime of 15 hours. \n",
    "<br><br>\n",
    "### 3. Trend regarding number of released movies over the past half century\n",
    "As a general trend, the number of movies keeps increasing from 1960 to 2015. The increase started to take on fast lane since 1995. To measure how drastic the increase has been, I set 200, 400, and 600 movies as three thresholds. The obervasion is impressive. It took Hollywood 36 years to reach 200 movies milestone, 10 years to reach 400 movies, and just 7 years to reach 600. \n",
    "<br><br>\n",
    "### 4. Trends of keywords among different decades\n",
    "It's very interesting to see the different keyword trend in each decade. <br><br>\n",
    "From 1960s to 1970s, `based on novel` is the top keyword. Moving on to 1980s, keyword `nudity` dominated. In both 1990s to 2000s `independent film` claimed the throne. Entering 2010s, `woman director`. <br><br>With some online research, I also unfold slices of history that relate or explain the keyword trends. \n",
    "<br><br>\n",
    "### 5. Average rating of horror films vs. non-horror films\n",
    "I try to discover if horror films always have an lower average rating than non-horror films. I separate films into two categories, horror films and non-horror films, and compare their average ratings in each decade by computing the average rating difference. <br><br>The finding shows that the average vote of horror films has consistently been lower than that non-horror films over the decades. The gap of average rating difference has been growing from around 0.2 in 1960s to over 1 in 2010s. 1 whole point in average rating difference is huge!The expansion of such gap started to accelerate from 1990s through 2010s.\n",
    "<br><br>\n",
    "### 6. Horror films in percentage of all films since 1990\n",
    "I also try to discover the number of horror films in the market since 1990. But I am not interested in looking at the absolute numbers, but horror films in percentage among all films in each year.<br><br>\n",
    "To my surprise, horror films dropped drastically in its percentage of all films after the year 1990 and struggled for the rest of 1990s and the first half of 2000s. During this period, the percentage reached a history low in 1994, which is around 20 times lower than the percentage in 1990.<br><br>\n",
    "Starting from 2005, horror films regained its youth with a upward trend in its percentage among all films, and stayed strong in 2010s. <br><br>\n",
    "If you are a big fan of horror films like I do, time to cheer. With films like 'Get out', 'Us', and 'Conjuring' franchise outperformed in box office and gathered great reviews, the industry is definitely want to make more, and thus I anticipate even higher percentage in the furture. \n",
    "<br><br>\n",
    "## Limitation\n",
    "First of all, I am not sure if this dataset is representative of all the movies released over the years. An ineffective representation would hindered my analysis, especially when a large part of investigation is on film trend by year/decade.\n",
    "<br><br>\n",
    "Also, I suspect some of the films with thriller in its genre but without horror are in fact R-rated horror films. This will also impact the analysis on trends of horror films.\n",
    "<br><br>\n",
    "Moreover, because the revenue_adj and budge_adj have huge amount of null values, so I didn't introduce them into my investigation of horror films. However, I am very certain that adding these two columns will create more insights for my analysis if they were with better data quality."
   ]
  },
  {
   "cell_type": "code",
   "execution_count": null,
   "metadata": {},
   "outputs": [],
   "source": []
  }
 ],
 "metadata": {
  "kernelspec": {
   "display_name": "Python 3",
   "language": "python",
   "name": "python3"
  },
  "language_info": {
   "codemirror_mode": {
    "name": "ipython",
    "version": 3
   },
   "file_extension": ".py",
   "mimetype": "text/x-python",
   "name": "python",
   "nbconvert_exporter": "python",
   "pygments_lexer": "ipython3",
   "version": "3.6.3"
  }
 },
 "nbformat": 4,
 "nbformat_minor": 2
}
